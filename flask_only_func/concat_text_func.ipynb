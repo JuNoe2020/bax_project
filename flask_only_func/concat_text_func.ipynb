{
 "cells": [
  {
   "cell_type": "code",
   "execution_count": null,
   "metadata": {},
   "outputs": [],
   "source": [
    "# 각 BM 세그먼트를 하나의 Text로 합치는 함수\n",
    "# df[1-9]는 각각의 데이터프임\n",
    "# column[1-9]는 텍스트가 있는 각각의 열\n",
    "import pandas as pd\n",
    "def concat_txt(df1, column1, df2, column2, df3, column3, df4, column4, df5, column5,\n",
    "               df6, column6, df7, column7, df8, column8, df9, column9):\n",
    "    total_df = pd.DataFrame()\n",
    "    total_df['text'] = \"고객 세그먼트는 \"+ df[column1] + \".\" +\\\n",
    "                \" 가치제안은 \" + df[column2] + \".\" +\\\n",
    "                \" 마케팅채널은 \" + df[column3] + \".\" +\\\n",
    "                \" 고객관계는 \" + df[column4] + \".\" +\\\n",
    "                \" 수익원은 \" + df[column5] + \".\" +\\\n",
    "                \" 핵심활동은 \" + df[column6] + \".\" +\\\n",
    "                \" 핵심자원은 \" + df[column7] + \".\" +\\\n",
    "                \" 핵심파트너는 \" + df[column8] + \".\"\\\n",
    "                \" 비용구조는 \" + df[column9] + \".\"\n",
    "    total_df['text'] = df['text'].replace('\\n', \",\")\n",
    "    return total_df"
   ]
  },
  {
   "cell_type": "code",
   "execution_count": null,
   "metadata": {},
   "outputs": [],
   "source": [
    "# 함수 실행\n",
    "total_df = concat_txt(data_1, '고객세그먼트', data_2, '가치제안', data_3, '마케팅 채널',\n",
    "                     data_4, '고객관계', data_5, '수익원', data_6, '핵심활동', data_7, \n",
    "                      '핵심자원', data_8, '핵심파트너', data_9, '비용구조')\n",
    "total_df['txt'][0]"
   ]
  }
 ],
 "metadata": {
  "kernelspec": {
   "display_name": "Python 3",
   "language": "python",
   "name": "python3"
  },
  "language_info": {
   "codemirror_mode": {
    "name": "ipython",
    "version": 3
   },
   "file_extension": ".py",
   "mimetype": "text/x-python",
   "name": "python",
   "nbconvert_exporter": "python",
   "pygments_lexer": "ipython3",
   "version": "3.8.5"
  },
  "toc": {
   "base_numbering": 1,
   "nav_menu": {},
   "number_sections": true,
   "sideBar": true,
   "skip_h1_title": false,
   "title_cell": "Table of Contents",
   "title_sidebar": "Contents",
   "toc_cell": false,
   "toc_position": {},
   "toc_section_display": true,
   "toc_window_display": false
  }
 },
 "nbformat": 4,
 "nbformat_minor": 4
}
