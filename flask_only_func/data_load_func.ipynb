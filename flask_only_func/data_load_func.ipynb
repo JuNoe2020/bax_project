{
 "cells": [
  {
   "cell_type": "code",
   "execution_count": null,
   "metadata": {
    "ExecuteTime": {
     "end_time": "2021-09-23T10:27:46.916987Z",
     "start_time": "2021-09-23T10:27:44.111805Z"
    },
    "scrolled": true
   },
   "outputs": [],
   "source": [
    "!pip install elasticsearch"
   ]
  },
  {
   "cell_type": "code",
   "execution_count": 16,
   "metadata": {
    "ExecuteTime": {
     "end_time": "2021-09-23T11:14:20.746613Z",
     "start_time": "2021-09-23T11:14:20.740646Z"
    }
   },
   "outputs": [],
   "source": [
    "import pandas as pd"
   ]
  },
  {
   "cell_type": "code",
   "execution_count": 17,
   "metadata": {
    "ExecuteTime": {
     "end_time": "2021-09-23T11:14:20.936048Z",
     "start_time": "2021-09-23T11:14:20.929067Z"
    },
    "scrolled": false
   },
   "outputs": [],
   "source": [
    "from datetime import datetime\n",
    "from elasticsearch import Elasticsearch\n"
   ]
  },
  {
   "cell_type": "code",
   "execution_count": 18,
   "metadata": {
    "ExecuteTime": {
     "end_time": "2021-09-23T11:14:21.122513Z",
     "start_time": "2021-09-23T11:14:21.098605Z"
    }
   },
   "outputs": [
    {
     "data": {
      "text/html": [
       "<div>\n",
       "<style scoped>\n",
       "    .dataframe tbody tr th:only-of-type {\n",
       "        vertical-align: middle;\n",
       "    }\n",
       "\n",
       "    .dataframe tbody tr th {\n",
       "        vertical-align: top;\n",
       "    }\n",
       "\n",
       "    .dataframe thead th {\n",
       "        text-align: right;\n",
       "    }\n",
       "</style>\n",
       "<table border=\"1\" class=\"dataframe\">\n",
       "  <thead>\n",
       "    <tr style=\"text-align: right;\">\n",
       "      <th></th>\n",
       "      <th>고객 세그먼트</th>\n",
       "      <th>가치제안</th>\n",
       "      <th>마케팅 채널</th>\n",
       "      <th>고객관계</th>\n",
       "      <th>수익원</th>\n",
       "      <th>핵심활동</th>\n",
       "      <th>핵심자원</th>\n",
       "      <th>핵심파트너</th>\n",
       "      <th>비용구조</th>\n",
       "    </tr>\n",
       "  </thead>\n",
       "  <tbody>\n",
       "    <tr>\n",
       "      <th>0</th>\n",
       "      <td>EEE</td>\n",
       "      <td>EEE</td>\n",
       "      <td>EEE</td>\n",
       "      <td>EEE</td>\n",
       "      <td>EEE</td>\n",
       "      <td>EEE</td>\n",
       "      <td>EEE</td>\n",
       "      <td>EEE</td>\n",
       "      <td>EEE</td>\n",
       "    </tr>\n",
       "  </tbody>\n",
       "</table>\n",
       "</div>"
      ],
      "text/plain": [
       "  고객 세그먼트 가치제안 마케팅 채널 고객관계  수익원 핵심활동 핵심자원 핵심파트너 비용구조\n",
       "0     EEE  EEE    EEE  EEE  EEE  EEE  EEE   EEE  EEE"
      ]
     },
     "execution_count": 18,
     "metadata": {},
     "output_type": "execute_result"
    }
   ],
   "source": [
    "df = pd.DataFrame({'고객 세그먼트': ['EEE'],\n",
    "                 '가치제안': ['EEE'],\n",
    "                 '마케팅 채널': ['EEE'],\n",
    "                 '고객관계': ['EEE'],\n",
    "                 '수익원': ['EEE'],\n",
    "                 '핵심활동': ['EEE'],\n",
    "                 '핵심자원': ['EEE'],\n",
    "                 '핵심파트너': ['EEE'],\n",
    "                 '비용구조': ['EEE']})\n",
    "df"
   ]
  },
  {
   "cell_type": "code",
   "execution_count": 19,
   "metadata": {
    "ExecuteTime": {
     "end_time": "2021-09-23T11:14:21.277161Z",
     "start_time": "2021-09-23T11:14:21.271202Z"
    }
   },
   "outputs": [
    {
     "data": {
      "text/plain": [
       "'EEE'"
      ]
     },
     "execution_count": 19,
     "metadata": {},
     "output_type": "execute_result"
    }
   ],
   "source": [
    "df.iloc[0][3]"
   ]
  },
  {
   "cell_type": "code",
   "execution_count": 20,
   "metadata": {
    "ExecuteTime": {
     "end_time": "2021-09-23T11:14:21.554469Z",
     "start_time": "2021-09-23T11:14:21.428304Z"
    },
    "scrolled": true
   },
   "outputs": [
    {
     "name": "stderr",
     "output_type": "stream",
     "text": [
      "C:\\Users\\JuNoe\\anaconda3\\lib\\site-packages\\elasticsearch\\connection\\base.py:208: ElasticsearchWarning: Elasticsearch built-in security features are not enabled. Without authentication, your cluster could be accessible to anyone. See https://www.elastic.co/guide/en/elasticsearch/reference/7.14/security-minimal-setup.html to enable security.\n",
      "  warnings.warn(message, category=ElasticsearchWarning)\n"
     ]
    },
    {
     "data": {
      "text/plain": [
       "{'name': 'node-1',\n",
       " 'cluster_name': 'es-cluster',\n",
       " 'cluster_uuid': 'tYWuY5FGSRC51YMjqeyJeA',\n",
       " 'version': {'number': '7.14.2',\n",
       "  'build_flavor': 'default',\n",
       "  'build_type': 'tar',\n",
       "  'build_hash': '6bc13727ce758c0e943c3c21653b3da82f627f75',\n",
       "  'build_date': '2021-09-15T10:18:09.722761972Z',\n",
       "  'build_snapshot': False,\n",
       "  'lucene_version': '8.9.0',\n",
       "  'minimum_wire_compatibility_version': '6.8.0',\n",
       "  'minimum_index_compatibility_version': '6.0.0-beta1'},\n",
       " 'tagline': 'You Know, for Search'}"
      ]
     },
     "execution_count": 20,
     "metadata": {},
     "output_type": "execute_result"
    }
   ],
   "source": [
    "# elasticsearch 연결\n",
    "es = Elasticsearch('http://34.64.84.121:9200')\n",
    "es.info()"
   ]
  },
  {
   "cell_type": "code",
   "execution_count": 27,
   "metadata": {
    "ExecuteTime": {
     "end_time": "2021-09-23T11:14:38.972308Z",
     "start_time": "2021-09-23T11:14:38.960370Z"
    },
    "scrolled": true
   },
   "outputs": [],
   "source": [
    "# 동일한 이른의 인덱스가 있을 경우 삭제하고 다시 생성\n",
    "def make_index(es, index_name):\n",
    "    if es.indices.exists(index=index_name):\n",
    "        es.indices.delete(index=index_name)\n",
    "        es.indices.create(index=index_name)\n",
    "\n",
    "# 데이터베이스 이름 선언 (엘라스틱에서는 인덱스라 함)\n",
    "index_name = 'bmc'\n",
    "\n",
    "# elasticsearch에 텍스트 데이터프레임을 적재하는 함수\n",
    "# df : 텍스트 9개 컬럼 데이터프레임\n",
    "def input_data(df, index_name):\n",
    "\n",
    "    # 데이터준비\n",
    "    doc = { \n",
    "            '고객 세그먼트': df.iloc[0][0], \n",
    "            '가치제안': df.iloc[0][1], \n",
    "            \"마케팅 채널\": df.iloc[0][2],\n",
    "            '고객관계': df.iloc[0][3], \n",
    "            \"수익원\": df.iloc[0][4],\n",
    "            \"핵심활동\": df.iloc[0][5], \n",
    "            \"핵심자원\": df.iloc[0][6],\n",
    "            \"핵심파트너\": df.iloc[0][7],\n",
    "            \"비용구조\": df.iloc[0][8]}\n",
    "    make_index(es, index_name)\n",
    "\n",
    "    # 값 입력\n",
    "    es.index(index=index_name, doc_type='string', body=doc)\n",
    "    \n",
    "    # 새로고침\n",
    "    es.indices.refresh(index=index_name)"
   ]
  },
  {
   "cell_type": "code",
   "execution_count": 28,
   "metadata": {
    "ExecuteTime": {
     "end_time": "2021-09-23T11:14:39.686891Z",
     "start_time": "2021-09-23T11:14:39.174500Z"
    }
   },
   "outputs": [],
   "source": [
    "input_data(df, index_name)"
   ]
  },
  {
   "cell_type": "code",
   "execution_count": 29,
   "metadata": {
    "ExecuteTime": {
     "end_time": "2021-09-23T11:14:39.746609Z",
     "start_time": "2021-09-23T11:14:39.692902Z"
    }
   },
   "outputs": [
    {
     "name": "stdout",
     "output_type": "stream",
     "text": [
      "score: 0.2876821 source: {'고객 세그먼트': 'EEE', '가치제안': 'EEE', '마케팅 채널': 'EEE', '고객관계': 'EEE', '수익원': 'EEE', '핵심활동': 'EEE', '핵심자원': 'EEE', '핵심파트너': 'EEE', '비용구조': 'EEE'}\n"
     ]
    }
   ],
   "source": [
    "results = es.search(index=index_name, body={'from':0, 'size':100, 'query':{'match':{'고객 세그먼트':'EEE'}}})\n",
    "for result in results['hits']['hits']:\n",
    "    print('score:', result['_score'], 'source:', result['_source'])"
   ]
  },
  {
   "cell_type": "code",
   "execution_count": null,
   "metadata": {},
   "outputs": [],
   "source": []
  }
 ],
 "metadata": {
  "kernelspec": {
   "display_name": "Python 3",
   "language": "python",
   "name": "python3"
  },
  "language_info": {
   "codemirror_mode": {
    "name": "ipython",
    "version": 3
   },
   "file_extension": ".py",
   "mimetype": "text/x-python",
   "name": "python",
   "nbconvert_exporter": "python",
   "pygments_lexer": "ipython3",
   "version": "3.8.5"
  },
  "toc": {
   "base_numbering": 1,
   "nav_menu": {},
   "number_sections": true,
   "sideBar": true,
   "skip_h1_title": false,
   "title_cell": "Table of Contents",
   "title_sidebar": "Contents",
   "toc_cell": false,
   "toc_position": {},
   "toc_section_display": true,
   "toc_window_display": false
  }
 },
 "nbformat": 4,
 "nbformat_minor": 4
}
