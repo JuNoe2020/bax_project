{
 "cells": [
  {
   "cell_type": "code",
   "execution_count": 1,
   "metadata": {
    "ExecuteTime": {
     "end_time": "2021-09-14T16:33:05.479937Z",
     "start_time": "2021-09-14T16:33:05.114912Z"
    }
   },
   "outputs": [],
   "source": [
    "import pandas as pd"
   ]
  },
  {
   "cell_type": "code",
   "execution_count": 2,
   "metadata": {
    "ExecuteTime": {
     "end_time": "2021-09-14T16:33:05.494896Z",
     "start_time": "2021-09-14T16:33:05.480934Z"
    }
   },
   "outputs": [],
   "source": [
    "# 알파벳사전 불러오기\n",
    "alpha_dic = pd.read_csv('data/untokenized_eng_df.csv')"
   ]
  },
  {
   "cell_type": "code",
   "execution_count": 3,
   "metadata": {
    "ExecuteTime": {
     "end_time": "2021-09-14T16:33:05.984588Z",
     "start_time": "2021-09-14T16:33:05.955666Z"
    },
    "scrolled": true
   },
   "outputs": [
    {
     "data": {
      "text/html": [
       "<div>\n",
       "<style scoped>\n",
       "    .dataframe tbody tr th:only-of-type {\n",
       "        vertical-align: middle;\n",
       "    }\n",
       "\n",
       "    .dataframe tbody tr th {\n",
       "        vertical-align: top;\n",
       "    }\n",
       "\n",
       "    .dataframe thead th {\n",
       "        text-align: right;\n",
       "    }\n",
       "</style>\n",
       "<table border=\"1\" class=\"dataframe\">\n",
       "  <thead>\n",
       "    <tr style=\"text-align: right;\">\n",
       "      <th></th>\n",
       "      <th>Unnamed: 0</th>\n",
       "      <th>기업명</th>\n",
       "      <th>text</th>\n",
       "      <th>구체적 기재</th>\n",
       "      <th>사업의 트렌디 여부</th>\n",
       "      <th>고객 세분화</th>\n",
       "      <th>핵심활동 창의성, 효율성</th>\n",
       "      <th>파트너십</th>\n",
       "      <th>핵심자원</th>\n",
       "    </tr>\n",
       "  </thead>\n",
       "  <tbody>\n",
       "    <tr>\n",
       "      <th>0</th>\n",
       "      <td>0</td>\n",
       "      <td>멜텍스코리아 주식회사</td>\n",
       "      <td>고객 세그먼트는 전자부품MLCC(Multi Layer Ceramic Condense...</td>\n",
       "      <td>0</td>\n",
       "      <td>0</td>\n",
       "      <td>2</td>\n",
       "      <td>1</td>\n",
       "      <td>1</td>\n",
       "      <td>0</td>\n",
       "    </tr>\n",
       "  </tbody>\n",
       "</table>\n",
       "</div>"
      ],
      "text/plain": [
       "   Unnamed: 0          기업명                                               text  \\\n",
       "0           0  멜텍스코리아 주식회사  고객 세그먼트는 전자부품MLCC(Multi Layer Ceramic Condense...   \n",
       "\n",
       "   구체적 기재  사업의 트렌디 여부  고객 세분화  핵심활동 창의성, 효율성  파트너십  핵심자원  \n",
       "0       0           0       2              1     1     0  "
      ]
     },
     "execution_count": 3,
     "metadata": {},
     "output_type": "execute_result"
    }
   ],
   "source": [
    "# 데이터 불러오기\n",
    "total_df = pd.read_csv('data/sample.csv')\n",
    "total_df"
   ]
  },
  {
   "cell_type": "code",
   "execution_count": 4,
   "metadata": {
    "ExecuteTime": {
     "end_time": "2021-09-14T16:33:06.504200Z",
     "start_time": "2021-09-14T16:33:06.489239Z"
    },
    "scrolled": false
   },
   "outputs": [],
   "source": [
    "# 알파벳단어를 한글로 바꾸는 함수\n",
    "# df:변환대상이되는 데이터프레임\n",
    "# alpha_dic: 알파벳사전\n",
    "# text_column, untoken_column, kor_column 따로 선언하지 않아도됨\n",
    "# (df와 alpha_dic의 컬럼명 변경시 입력필요)\n",
    "\n",
    "def alpha_to_kor(df=total_df, alpha_dic=alpha_dic, text_column='text', \n",
    "               untoken_column='untokenized_word', kor_column='kor'):\n",
    "    \n",
    "    alpha_dic = alpha_dic[[untoken_column, kor_column]]\n",
    "    alpha_dic.dropna(inplace=True)\n",
    "    alpha_dic.reset_index(inplace=True)\n",
    "\n",
    "    words = df[text_column][0].split(\" \")\n",
    "    for word in words:\n",
    "        for i in range(len(alpha_dic)):\n",
    "            if word == alpha_dic[untoken_column][i]: \n",
    "                df.loc[[0],[text_column]] = df[text_column][0].replace(word, alpha_dic[kor_column][i])\n",
    "    return df"
   ]
  },
  {
   "cell_type": "code",
   "execution_count": 5,
   "metadata": {
    "ExecuteTime": {
     "end_time": "2021-09-14T16:33:07.601917Z",
     "start_time": "2021-09-14T16:33:07.245252Z"
    }
   },
   "outputs": [
    {
     "name": "stderr",
     "output_type": "stream",
     "text": [
      "<ipython-input-4-622de1f66d78>:11: SettingWithCopyWarning: \n",
      "A value is trying to be set on a copy of a slice from a DataFrame\n",
      "\n",
      "See the caveats in the documentation: https://pandas.pydata.org/pandas-docs/stable/user_guide/indexing.html#returning-a-view-versus-a-copy\n",
      "  alpha_dic.dropna(inplace=True)\n"
     ]
    },
    {
     "data": {
      "text/html": [
       "<div>\n",
       "<style scoped>\n",
       "    .dataframe tbody tr th:only-of-type {\n",
       "        vertical-align: middle;\n",
       "    }\n",
       "\n",
       "    .dataframe tbody tr th {\n",
       "        vertical-align: top;\n",
       "    }\n",
       "\n",
       "    .dataframe thead th {\n",
       "        text-align: right;\n",
       "    }\n",
       "</style>\n",
       "<table border=\"1\" class=\"dataframe\">\n",
       "  <thead>\n",
       "    <tr style=\"text-align: right;\">\n",
       "      <th></th>\n",
       "      <th>Unnamed: 0</th>\n",
       "      <th>기업명</th>\n",
       "      <th>text</th>\n",
       "      <th>구체적 기재</th>\n",
       "      <th>사업의 트렌디 여부</th>\n",
       "      <th>고객 세분화</th>\n",
       "      <th>핵심활동 창의성, 효율성</th>\n",
       "      <th>파트너십</th>\n",
       "      <th>핵심자원</th>\n",
       "    </tr>\n",
       "  </thead>\n",
       "  <tbody>\n",
       "    <tr>\n",
       "      <th>0</th>\n",
       "      <td>0</td>\n",
       "      <td>멜텍스코리아 주식회사</td>\n",
       "      <td>고객 세그먼트는 전자부품MLCC(Multi 레이어 Ceramic Condenser)...</td>\n",
       "      <td>0</td>\n",
       "      <td>0</td>\n",
       "      <td>2</td>\n",
       "      <td>1</td>\n",
       "      <td>1</td>\n",
       "      <td>0</td>\n",
       "    </tr>\n",
       "  </tbody>\n",
       "</table>\n",
       "</div>"
      ],
      "text/plain": [
       "   Unnamed: 0          기업명                                               text  \\\n",
       "0           0  멜텍스코리아 주식회사  고객 세그먼트는 전자부품MLCC(Multi 레이어 Ceramic Condenser)...   \n",
       "\n",
       "   구체적 기재  사업의 트렌디 여부  고객 세분화  핵심활동 창의성, 효율성  파트너십  핵심자원  \n",
       "0       0           0       2              1     1     0  "
      ]
     },
     "execution_count": 5,
     "metadata": {},
     "output_type": "execute_result"
    }
   ],
   "source": [
    "# 함수 실행하기\n",
    "alpha_to_kor(total_df, alpha_dic)"
   ]
  },
  {
   "cell_type": "code",
   "execution_count": null,
   "metadata": {},
   "outputs": [],
   "source": []
  }
 ],
 "metadata": {
  "kernelspec": {
   "display_name": "Python 3",
   "language": "python",
   "name": "python3"
  },
  "language_info": {
   "codemirror_mode": {
    "name": "ipython",
    "version": 3
   },
   "file_extension": ".py",
   "mimetype": "text/x-python",
   "name": "python",
   "nbconvert_exporter": "python",
   "pygments_lexer": "ipython3",
   "version": "3.8.5"
  },
  "toc": {
   "base_numbering": 1,
   "nav_menu": {},
   "number_sections": true,
   "sideBar": true,
   "skip_h1_title": false,
   "title_cell": "Table of Contents",
   "title_sidebar": "Contents",
   "toc_cell": false,
   "toc_position": {},
   "toc_section_display": true,
   "toc_window_display": false
  }
 },
 "nbformat": 4,
 "nbformat_minor": 4
}
