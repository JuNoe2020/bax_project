{
 "cells": [
  {
   "cell_type": "code",
   "execution_count": 22,
   "id": "0808d6c2",
   "metadata": {},
   "outputs": [],
   "source": [
    "from KoBERT.kobert.utils import get_tokenizer\n",
    "from KoBERT.kobert.pytorch_kobert import get_pytorch_kobert_model\n",
    "import gluonnlp as nlp\n",
    "import torch\n",
    "from torch import nn\n",
    "from torch.utils.data import Dataset\n",
    "import pandas as pd\n",
    "import numpy as np"
   ]
  },
  {
   "cell_type": "code",
   "execution_count": 23,
   "id": "2d9254d0",
   "metadata": {},
   "outputs": [],
   "source": [
    "device = torch.device(\"cuda:0\")"
   ]
  },
  {
   "cell_type": "code",
   "execution_count": 24,
   "id": "11d7af1e",
   "metadata": {},
   "outputs": [],
   "source": [
    "# 설정값\n",
    "\n",
    "num_class = 3\n",
    "max_len = 512\n",
    "drop_out_rate = 0.2\n",
    "batch_size = 4\n",
    "column_name = 'text'\n",
    "labels = '파트너십'\n",
    "filename = 'fully_labelled_df_2'"
   ]
  },
  {
   "cell_type": "code",
   "execution_count": 25,
   "id": "fe1bc417",
   "metadata": {},
   "outputs": [],
   "source": [
    "class BERTDataset(Dataset):\n",
    "    def __init__(self, dataset, bert_tokenizer, max_len, pad, pair, column_name=column_name, labels=labels):\n",
    "        transform = nlp.data.BERTSentenceTransform(\n",
    "            bert_tokenizer, max_seq_length=max_len, pad=pad, pair=pair)\n",
    "\n",
    "        sent_data = []\n",
    "        for i in range(len(dataset)):\n",
    "            sent_data.append([str(dataset.iloc[i][column_name]), dataset.iloc[i][labels]])\n",
    "\n",
    "        self.sentences = [transform([i[0]]) for i in sent_data]\n",
    "        self.labels = [np.int32(i[1]) for i in sent_data]\n",
    "\n",
    "    def __getitem__(self, i):\n",
    "        return self.sentences[i] + (self.labels[i],)\n",
    "\n",
    "    def __len__(self):\n",
    "        return len(self.labels)\n",
    "\n",
    "    "
   ]
  },
  {
   "cell_type": "code",
   "execution_count": 26,
   "id": "3932e4fb",
   "metadata": {},
   "outputs": [],
   "source": [
    "class BERTClassifier(nn.Module):\n",
    "    def __init__(self,\n",
    "                 bert,\n",
    "                 hidden_size=768,\n",
    "                 num_classes=num_class,\n",
    "                 dr_rate=None,\n",
    "                 params=None):\n",
    "        super(BERTClassifier, self).__init__()\n",
    "        self.bert = bert\n",
    "        self.dr_rate = dr_rate\n",
    "\n",
    "        self.classifier = nn.Linear(hidden_size, num_classes)\n",
    "        if dr_rate:\n",
    "            self.dropout = nn.Dropout(p=dr_rate)\n",
    "\n",
    "    def gen_attention_mask(self, token_ids, valid_length):\n",
    "        attention_mask = torch.zeros_like(token_ids)\n",
    "        for i, v in enumerate(valid_length):\n",
    "            attention_mask[i][:v] = 1\n",
    "        return attention_mask.float()\n",
    "\n",
    "    def forward(self, token_ids, valid_length, segment_ids):\n",
    "        attention_mask = self.gen_attention_mask(token_ids, valid_length)\n",
    "\n",
    "        _, pooler = self.bert(input_ids=token_ids, token_type_ids=segment_ids.long(),\n",
    "                              attention_mask=attention_mask.float().to(token_ids.device))\n",
    "\n",
    "        if self.dr_rate:\n",
    "            out = self.dropout(pooler)\n",
    "        softmax = nn.Softmax(dim=1)\n",
    "        output = softmax(self.classifier(out))\n",
    "        # output = self.classifier(out)\n",
    "        # return self.classifier(out)\n",
    "        return output"
   ]
  },
  {
   "cell_type": "code",
   "execution_count": 27,
   "id": "a52fb3d1",
   "metadata": {},
   "outputs": [],
   "source": [
    "# 파일 읽기\n",
    "\n",
    "def read_data(path='./', filename=filename, labels=labels):\n",
    "    df = pd.read_csv(path + '/' + filename + '.csv', sep=',')\n",
    "    df = df.dropna(axis=0)\n",
    "    return df"
   ]
  },
  {
   "cell_type": "code",
   "execution_count": 32,
   "id": "a467fe16",
   "metadata": {},
   "outputs": [],
   "source": [
    "sample = read_data(path='./data/', filename='fully_labelled_df_2', labels='파트너십')\n",
    "sample = sample.loc[[2],['text']]\n",
    "sample[labels] = 10"
   ]
  },
  {
   "cell_type": "code",
   "execution_count": 33,
   "id": "4f06dd78",
   "metadata": {
    "scrolled": false
   },
   "outputs": [
    {
     "data": {
      "text/html": [
       "<div>\n",
       "<style scoped>\n",
       "    .dataframe tbody tr th:only-of-type {\n",
       "        vertical-align: middle;\n",
       "    }\n",
       "\n",
       "    .dataframe tbody tr th {\n",
       "        vertical-align: top;\n",
       "    }\n",
       "\n",
       "    .dataframe thead th {\n",
       "        text-align: right;\n",
       "    }\n",
       "</style>\n",
       "<table border=\"1\" class=\"dataframe\">\n",
       "  <thead>\n",
       "    <tr style=\"text-align: right;\">\n",
       "      <th></th>\n",
       "      <th>text</th>\n",
       "      <th>파트너십</th>\n",
       "    </tr>\n",
       "  </thead>\n",
       "  <tbody>\n",
       "    <tr>\n",
       "      <th>2</th>\n",
       "      <td>고객 세그먼트는 주거용 건물 건축주(입주자아파트 등)\\n건설부문 외주 및 자재 생산...</td>\n",
       "      <td>10</td>\n",
       "    </tr>\n",
       "  </tbody>\n",
       "</table>\n",
       "</div>"
      ],
      "text/plain": [
       "                                                text  파트너십\n",
       "2  고객 세그먼트는 주거용 건물 건축주(입주자아파트 등)\\n건설부문 외주 및 자재 생산...    10"
      ]
     },
     "execution_count": 33,
     "metadata": {},
     "output_type": "execute_result"
    }
   ],
   "source": [
    "sample"
   ]
  },
  {
   "cell_type": "code",
   "execution_count": 30,
   "id": "bfc62221",
   "metadata": {
    "scrolled": true
   },
   "outputs": [
    {
     "name": "stdout",
     "output_type": "stream",
     "text": [
      "using cached model\n",
      "using cached model\n",
      "using cached model\n"
     ]
    }
   ],
   "source": [
    "# 사전에 BERTDataset와 BERTClassifier를 전역변수로 불러와야함\n",
    "\n",
    "bertmodel, vocab = get_pytorch_kobert_model() # 버트 모델, vocab 불러오기\n",
    "tokenizer = get_tokenizer() #토큰나이저 불러오기\n",
    "tok = nlp.data.BERTSPTokenizer(tokenizer, vocab, lower=False) # vocab 단어 토큰화, tok()에 단어를 넣으면 vocab 속 단어로 토큰화\n",
    "\n",
    "def predict(data, max_len=max_len, dr_rate=drop_out_rate, batch_size=batch_size):\n",
    "    \n",
    "    data_train = BERTDataset(sample, tok, max_len, True, False) # 토큰화, 정수 인코딩, 패딩\n",
    "    dataloader = torch.utils.data.DataLoader(data_train, batch_size=batch_size, num_workers=4) # 배치사이즈 적용\n",
    "    \n",
    "    model = BERTClassifier(bertmodel, dr_rate=drop_out_rate).to(device) # BERT 불러오기\n",
    "    model.load_state_dict(torch.load('파트너십_best_model.pt'))         # 학습된 모델 불러오기\n",
    "    model.eval() # 평가모드\n",
    "\n",
    "    for batch_id, (token_ids, valid_length, segment_ids, label) in enumerate(dataloader):\n",
    "        \n",
    "        token_ids = token_ids.long().to(device)     # token_ids 를 'cuda:0'에 연결\n",
    "        segment_ids = segment_ids.long().to(device) # segment_ids 를 'cuda:0'에 연결\n",
    "        valid_length= valid_length                  # 임베딩된 단어 길이\n",
    "        label = label.long().to(device)             # 라벨링 'cuda:0'에 연결\n",
    "        out = model(token_ids, valid_length, segment_ids)  # 모델의 softmax 결과값\n",
    "        \n",
    "        test_eval=[]\n",
    "        \n",
    "        logits=out\n",
    "        logits = logits.detach().cpu().numpy() # https://byeongjo-kim.tistory.com/32 참고\n",
    "        \n",
    "        # 값이 가장 높은 index 찾기\n",
    "        if np.argmax(logits) == 0:      \n",
    "            test_eval.append(\"C\")\n",
    "        elif np.argmax(logits) == 1:\n",
    "            test_eval.append(\"B\")\n",
    "        elif np.argmax(logits) == 2:\n",
    "            test_eval.append(\"A\")\n",
    "        \n",
    "    print(\"{}의 결과는 {}입니다.\".format(labels, test_eval))"
   ]
  },
  {
   "cell_type": "code",
   "execution_count": 34,
   "id": "4a0eaa48",
   "metadata": {
    "scrolled": true
   },
   "outputs": [
    {
     "name": "stdout",
     "output_type": "stream",
     "text": [
      "파트너십의 결과는 ['B']입니다.\n"
     ]
    }
   ],
   "source": [
    "predict(sample)"
   ]
  },
  {
   "cell_type": "code",
   "execution_count": null,
   "id": "e92ee275",
   "metadata": {},
   "outputs": [],
   "source": []
  }
 ],
 "metadata": {
  "kernelspec": {
   "display_name": "Python 3 (ipykernel)",
   "language": "python",
   "name": "python3"
  },
  "language_info": {
   "codemirror_mode": {
    "name": "ipython",
    "version": 3
   },
   "file_extension": ".py",
   "mimetype": "text/x-python",
   "name": "python",
   "nbconvert_exporter": "python",
   "pygments_lexer": "ipython3",
   "version": "3.8.10"
  }
 },
 "nbformat": 4,
 "nbformat_minor": 5
}
