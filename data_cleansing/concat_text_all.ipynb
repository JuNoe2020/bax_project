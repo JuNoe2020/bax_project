{
 "cells": [
  {
   "cell_type": "code",
   "execution_count": 2,
   "metadata": {
    "ExecuteTime": {
     "end_time": "2021-09-23T23:49:56.053407Z",
     "start_time": "2021-09-23T23:49:56.020987Z"
    },
    "scrolled": true
   },
   "outputs": [],
   "source": [
    "# 데이터 로딩\n",
    "import pandas as pd\n",
    "df = pd.read_csv(\"data/original_data/BMC_data.csv\")\n",
    "# df"
   ]
  },
  {
   "cell_type": "code",
   "execution_count": 3,
   "metadata": {
    "ExecuteTime": {
     "end_time": "2021-09-23T23:49:56.581155Z",
     "start_time": "2021-09-23T23:49:56.544618Z"
    }
   },
   "outputs": [],
   "source": [
    "total_df = pd.DataFrame()\n",
    "total_df['text'] = \"고객 세그먼트는 \"+ df['고객 세그먼트'] + \".\" +\\\n",
    "            \" 가치제안은 \" + df['가치제안'] + \".\" +\\\n",
    "            \" 마케팅채널은 \" + df['마케팅 채널'] + \".\" +\\\n",
    "            \" 고객관계는 \" + df['고객관계'] + \".\" +\\\n",
    "            \" 수익원은 \" + df['수익원'] + \".\" +\\\n",
    "            \" 핵심활동은 \" + df['핵심활동'] + \".\" +\\\n",
    "            \" 핵심자원은 \" + df['핵심자원'] + \".\" +\\\n",
    "            \" 핵심파트너는 \" + df['핵심파트너'] + \".\"\\\n",
    "            \" 비용구조는 \" + df['비용구조'] + \".\""
   ]
  },
  {
   "cell_type": "code",
   "execution_count": 4,
   "metadata": {
    "ExecuteTime": {
     "end_time": "2021-09-23T23:49:56.940092Z",
     "start_time": "2021-09-23T23:49:56.903996Z"
    },
    "scrolled": true
   },
   "outputs": [],
   "source": [
    "row_length = len(total_df)\n",
    "for i in range(row_length):\n",
    "    total_df['text'][i] = total_df['text'][i].replace('\\n', \",\")"
   ]
  },
  {
   "cell_type": "code",
   "execution_count": 5,
   "metadata": {
    "ExecuteTime": {
     "end_time": "2021-09-23T23:49:57.363928Z",
     "start_time": "2021-09-23T23:49:57.357945Z"
    }
   },
   "outputs": [],
   "source": [
    "total_df['기업명'] = df['기업명']"
   ]
  },
  {
   "cell_type": "code",
   "execution_count": 6,
   "metadata": {
    "ExecuteTime": {
     "end_time": "2021-09-23T23:49:57.968279Z",
     "start_time": "2021-09-23T23:49:57.943342Z"
    }
   },
   "outputs": [],
   "source": [
    "# 데이터 내보내기\n",
    "total_df.to_csv('data/flattened_txt_df.csv', encoding='utf-8-sig')"
   ]
  },
  {
   "cell_type": "code",
   "execution_count": null,
   "metadata": {},
   "outputs": [],
   "source": []
  },
  {
   "cell_type": "code",
   "execution_count": null,
   "metadata": {},
   "outputs": [],
   "source": []
  },
  {
   "cell_type": "code",
   "execution_count": null,
   "metadata": {},
   "outputs": [],
   "source": []
  },
  {
   "cell_type": "code",
   "execution_count": null,
   "metadata": {},
   "outputs": [],
   "source": []
  },
  {
   "cell_type": "code",
   "execution_count": null,
   "metadata": {},
   "outputs": [],
   "source": []
  },
  {
   "cell_type": "code",
   "execution_count": null,
   "metadata": {},
   "outputs": [],
   "source": []
  },
  {
   "cell_type": "code",
   "execution_count": null,
   "metadata": {},
   "outputs": [],
   "source": []
  }
 ],
 "metadata": {
  "kernelspec": {
   "display_name": "Python 3",
   "language": "python",
   "name": "python3"
  },
  "language_info": {
   "codemirror_mode": {
    "name": "ipython",
    "version": 3
   },
   "file_extension": ".py",
   "mimetype": "text/x-python",
   "name": "python",
   "nbconvert_exporter": "python",
   "pygments_lexer": "ipython3",
   "version": "3.8.5"
  },
  "toc": {
   "base_numbering": 1,
   "nav_menu": {},
   "number_sections": true,
   "sideBar": true,
   "skip_h1_title": false,
   "title_cell": "Table of Contents",
   "title_sidebar": "Contents",
   "toc_cell": false,
   "toc_position": {},
   "toc_section_display": true,
   "toc_window_display": false
  }
 },
 "nbformat": 4,
 "nbformat_minor": 4
}
