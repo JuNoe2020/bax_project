{
 "cells": [
  {
   "cell_type": "code",
   "execution_count": 3,
   "metadata": {
    "ExecuteTime": {
     "end_time": "2021-09-23T23:50:44.296281Z",
     "start_time": "2021-09-23T23:50:44.025260Z"
    }
   },
   "outputs": [],
   "source": [
    "import gluonnlp as nlp\n",
    "import pandas as pd"
   ]
  },
  {
   "cell_type": "code",
   "execution_count": 4,
   "metadata": {
    "ExecuteTime": {
     "end_time": "2021-09-23T23:50:44.326923Z",
     "start_time": "2021-09-23T23:50:44.297280Z"
    }
   },
   "outputs": [],
   "source": [
    "df = pd.read_csv('data/fully_labelled_df_2.csv')\n",
    "# df"
   ]
  },
  {
   "cell_type": "code",
   "execution_count": 5,
   "metadata": {
    "ExecuteTime": {
     "end_time": "2021-09-23T23:50:44.714644Z",
     "start_time": "2021-09-23T23:50:44.683726Z"
    }
   },
   "outputs": [],
   "source": [
    "# tsv 형태로 저장\n",
    "df.to_csv('data/fully_labelled_df_2.tsv', index=False, header=True, sep='\\t')"
   ]
  },
  {
   "cell_type": "code",
   "execution_count": 6,
   "metadata": {
    "ExecuteTime": {
     "end_time": "2021-09-23T23:50:45.263166Z",
     "start_time": "2021-09-23T23:50:45.238205Z"
    }
   },
   "outputs": [],
   "source": [
    "# tsv 불러오기\n",
    "dataset_train = nlp.data.TSVDataset(\"data/fully_labelled_df_2.tsv\", field_indices=[2,3], num_discard_samples=1)"
   ]
  },
  {
   "cell_type": "code",
   "execution_count": null,
   "metadata": {},
   "outputs": [],
   "source": []
  }
 ],
 "metadata": {
  "kernelspec": {
   "display_name": "Python 3",
   "language": "python",
   "name": "python3"
  },
  "language_info": {
   "codemirror_mode": {
    "name": "ipython",
    "version": 3
   },
   "file_extension": ".py",
   "mimetype": "text/x-python",
   "name": "python",
   "nbconvert_exporter": "python",
   "pygments_lexer": "ipython3",
   "version": "3.8.5"
  },
  "toc": {
   "base_numbering": 1,
   "nav_menu": {},
   "number_sections": true,
   "sideBar": true,
   "skip_h1_title": false,
   "title_cell": "Table of Contents",
   "title_sidebar": "Contents",
   "toc_cell": false,
   "toc_position": {},
   "toc_section_display": true,
   "toc_window_display": false
  }
 },
 "nbformat": 4,
 "nbformat_minor": 4
}
