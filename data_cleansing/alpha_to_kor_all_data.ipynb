{
 "cells": [
  {
   "cell_type": "code",
   "execution_count": 1,
   "metadata": {
    "ExecuteTime": {
     "end_time": "2021-09-23T23:42:58.247200Z",
     "start_time": "2021-09-23T23:42:57.783885Z"
    }
   },
   "outputs": [],
   "source": [
    "import pandas as pd"
   ]
  },
  {
   "cell_type": "code",
   "execution_count": 2,
   "metadata": {
    "ExecuteTime": {
     "end_time": "2021-09-23T23:42:58.263157Z",
     "start_time": "2021-09-23T23:42:58.248197Z"
    }
   },
   "outputs": [],
   "source": [
    "# 알파벳사전 불러오기\n",
    "alpha_dic = pd.read_csv('data/untokenized_eng_df.csv')"
   ]
  },
  {
   "cell_type": "code",
   "execution_count": 3,
   "metadata": {
    "ExecuteTime": {
     "end_time": "2021-09-23T23:42:58.717634Z",
     "start_time": "2021-09-23T23:42:58.710623Z"
    }
   },
   "outputs": [],
   "source": [
    "# alpha_dic"
   ]
  },
  {
   "cell_type": "code",
   "execution_count": 4,
   "metadata": {
    "ExecuteTime": {
     "end_time": "2021-09-23T23:42:59.478107Z",
     "start_time": "2021-09-23T23:42:59.447217Z"
    }
   },
   "outputs": [],
   "source": [
    "# 데이터 불러오기\n",
    "total_df = pd.read_csv('data/fully_labelled_df_2.csv')\n",
    "# total_df"
   ]
  },
  {
   "cell_type": "code",
   "execution_count": 5,
   "metadata": {
    "ExecuteTime": {
     "end_time": "2021-09-23T23:45:36.063006Z",
     "start_time": "2021-09-23T23:43:00.113705Z"
    },
    "scrolled": true
   },
   "outputs": [],
   "source": [
    "alpha_dic = alpha_dic[['untokenized_word', 'kor']]\n",
    "alpha_dic.dropna(inplace=True)\n",
    "alpha_dic.reset_index(inplace=True)\n",
    "\n",
    "for i in range(len(total_df)):\n",
    "    words = total_df['text'][i].split(\" \")\n",
    "#     print(words)\n",
    "    for word in words:\n",
    "        for j in range(len(alpha_dic)):\n",
    "            if word == alpha_dic['untokenized_word'][j]: \n",
    "#                 print(word)\n",
    "                total_df.loc[[i],['text']] = total_df['text'][i].replace(word, alpha_dic['kor'][j])\n",
    "\n",
    "# total_df"
   ]
  },
  {
   "cell_type": "code",
   "execution_count": 18,
   "metadata": {
    "ExecuteTime": {
     "end_time": "2021-09-14T16:53:45.947250Z",
     "start_time": "2021-09-14T16:53:45.916308Z"
    }
   },
   "outputs": [],
   "source": [
    "# csv저장\n",
    "total_df.to_csv('data/processed_labelled_df.csv', encoding='utf-8-sig')"
   ]
  },
  {
   "cell_type": "code",
   "execution_count": null,
   "metadata": {},
   "outputs": [],
   "source": []
  }
 ],
 "metadata": {
  "kernelspec": {
   "display_name": "Python 3",
   "language": "python",
   "name": "python3"
  },
  "language_info": {
   "codemirror_mode": {
    "name": "ipython",
    "version": 3
   },
   "file_extension": ".py",
   "mimetype": "text/x-python",
   "name": "python",
   "nbconvert_exporter": "python",
   "pygments_lexer": "ipython3",
   "version": "3.8.5"
  },
  "toc": {
   "base_numbering": 1,
   "nav_menu": {},
   "number_sections": true,
   "sideBar": true,
   "skip_h1_title": false,
   "title_cell": "Table of Contents",
   "title_sidebar": "Contents",
   "toc_cell": false,
   "toc_position": {},
   "toc_section_display": true,
   "toc_window_display": false
  }
 },
 "nbformat": 4,
 "nbformat_minor": 4
}
