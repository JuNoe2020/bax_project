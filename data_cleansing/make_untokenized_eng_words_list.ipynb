{
 "cells": [
  {
   "cell_type": "markdown",
   "metadata": {},
   "source": [
    "# Library Import"
   ]
  },
  {
   "cell_type": "code",
   "execution_count": 1,
   "metadata": {
    "ExecuteTime": {
     "end_time": "2021-09-23T22:57:10.997442Z",
     "start_time": "2021-09-23T22:57:10.105990Z"
    },
    "executionInfo": {
     "elapsed": 677,
     "status": "ok",
     "timestamp": 1615379572357,
     "user": {
      "displayName": "김기휘",
      "photoUrl": "https://lh3.googleusercontent.com/a-/AOh14GhIQFPUDr44-Q4-Cz9IVQp5qeMiQy2Y_bCaA3W6Mg=s64",
      "userId": "01816834924400046195"
     },
     "user_tz": -540
    },
    "id": "GTNZr9kdS2o4"
   },
   "outputs": [],
   "source": [
    "import torch\n",
    "from torch import nn\n",
    "from torch.utils.data import Dataset"
   ]
  },
  {
   "cell_type": "code",
   "execution_count": 2,
   "metadata": {
    "ExecuteTime": {
     "end_time": "2021-09-23T22:57:16.217011Z",
     "start_time": "2021-09-23T22:57:10.999438Z"
    },
    "executionInfo": {
     "elapsed": 2325,
     "status": "ok",
     "timestamp": 1615379574154,
     "user": {
      "displayName": "김기휘",
      "photoUrl": "https://lh3.googleusercontent.com/a-/AOh14GhIQFPUDr44-Q4-Cz9IVQp5qeMiQy2Y_bCaA3W6Mg=s64",
      "userId": "01816834924400046195"
     },
     "user_tz": -540
    },
    "id": "ymY4iAtMS1W6"
   },
   "outputs": [],
   "source": [
    "from KoBERT.kobert.utils import get_tokenizer\n",
    "from KoBERT.kobert.pytorch_kobert import get_pytorch_kobert_model"
   ]
  },
  {
   "cell_type": "code",
   "execution_count": 3,
   "metadata": {
    "ExecuteTime": {
     "end_time": "2021-09-23T22:57:16.232970Z",
     "start_time": "2021-09-23T22:57:16.218009Z"
    },
    "executionInfo": {
     "elapsed": 3134,
     "status": "ok",
     "timestamp": 1615379570583,
     "user": {
      "displayName": "김기휘",
      "photoUrl": "https://lh3.googleusercontent.com/a-/AOh14GhIQFPUDr44-Q4-Cz9IVQp5qeMiQy2Y_bCaA3W6Mg=s64",
      "userId": "01816834924400046195"
     },
     "user_tz": -540
    },
    "id": "EhDHyeX2S1c4"
   },
   "outputs": [],
   "source": [
    "from transformers import AdamW\n",
    "from transformers import get_linear_schedule_with_warmup"
   ]
  },
  {
   "cell_type": "code",
   "execution_count": 4,
   "metadata": {
    "ExecuteTime": {
     "end_time": "2021-09-23T22:57:16.248928Z",
     "start_time": "2021-09-23T22:57:16.234965Z"
    },
    "executionInfo": {
     "elapsed": 848,
     "status": "ok",
     "timestamp": 1615379574155,
     "user": {
      "displayName": "김기휘",
      "photoUrl": "https://lh3.googleusercontent.com/a-/AOh14GhIQFPUDr44-Q4-Cz9IVQp5qeMiQy2Y_bCaA3W6Mg=s64",
      "userId": "01816834924400046195"
     },
     "user_tz": -540
    },
    "id": "eFEL5RRxYca3"
   },
   "outputs": [],
   "source": [
    "import gluonnlp as nlp"
   ]
  },
  {
   "cell_type": "code",
   "execution_count": 5,
   "metadata": {
    "ExecuteTime": {
     "end_time": "2021-09-23T22:57:16.280843Z",
     "start_time": "2021-09-23T22:57:16.249926Z"
    },
    "executionInfo": {
     "elapsed": 710,
     "status": "ok",
     "timestamp": 1615379574156,
     "user": {
      "displayName": "김기휘",
      "photoUrl": "https://lh3.googleusercontent.com/a-/AOh14GhIQFPUDr44-Q4-Cz9IVQp5qeMiQy2Y_bCaA3W6Mg=s64",
      "userId": "01816834924400046195"
     },
     "user_tz": -540
    },
    "id": "OlE94H8-S1fD"
   },
   "outputs": [],
   "source": [
    "from sklearn.model_selection import train_test_split"
   ]
  },
  {
   "cell_type": "code",
   "execution_count": 6,
   "metadata": {
    "ExecuteTime": {
     "end_time": "2021-09-23T22:57:16.833359Z",
     "start_time": "2021-09-23T22:57:16.281839Z"
    },
    "executionInfo": {
     "elapsed": 568,
     "status": "ok",
     "timestamp": 1615379574158,
     "user": {
      "displayName": "김기휘",
      "photoUrl": "https://lh3.googleusercontent.com/a-/AOh14GhIQFPUDr44-Q4-Cz9IVQp5qeMiQy2Y_bCaA3W6Mg=s64",
      "userId": "01816834924400046195"
     },
     "user_tz": -540
    },
    "id": "1fBQrbOTYeFZ"
   },
   "outputs": [],
   "source": [
    "import numpy as np\n",
    "import pandas as pd\n",
    "import matplotlib.pyplot as plt\n",
    "import matplotlib.font_manager as fm\n",
    "\n",
    "from tqdm import tqdm, tqdm_notebook\n",
    "import sys"
   ]
  },
  {
   "cell_type": "markdown",
   "metadata": {},
   "source": [
    "# Main"
   ]
  },
  {
   "cell_type": "code",
   "execution_count": 7,
   "metadata": {
    "ExecuteTime": {
     "end_time": "2021-09-23T22:57:16.849330Z",
     "start_time": "2021-09-23T22:57:16.835326Z"
    },
    "executionInfo": {
     "elapsed": 661,
     "status": "ok",
     "timestamp": 1615379574522,
     "user": {
      "displayName": "김기휘",
      "photoUrl": "https://lh3.googleusercontent.com/a-/AOh14GhIQFPUDr44-Q4-Cz9IVQp5qeMiQy2Y_bCaA3W6Mg=s64",
      "userId": "01816834924400046195"
     },
     "user_tz": -540
    },
    "id": "Gt1kkZj0qMBx"
   },
   "outputs": [],
   "source": [
    "%matplotlib inline"
   ]
  },
  {
   "cell_type": "code",
   "execution_count": 8,
   "metadata": {
    "ExecuteTime": {
     "end_time": "2021-09-23T22:57:16.865273Z",
     "start_time": "2021-09-23T22:57:16.850318Z"
    },
    "executionInfo": {
     "elapsed": 560,
     "status": "ok",
     "timestamp": 1615379574523,
     "user": {
      "displayName": "김기휘",
      "photoUrl": "https://lh3.googleusercontent.com/a-/AOh14GhIQFPUDr44-Q4-Cz9IVQp5qeMiQy2Y_bCaA3W6Mg=s64",
      "userId": "01816834924400046195"
     },
     "user_tz": -540
    },
    "id": "8Rnp6efcoBsP"
   },
   "outputs": [],
   "source": [
    "plt.style.use('seaborn')\n",
    "fm.get_fontconfig_fonts()\n",
    "font_location = '/content/drive/MyDrive/Colab Notebooks/BERT_BMC/font/NanumGothic.ttf'\n",
    "fprop = fm.FontProperties(fname=font_location)"
   ]
  },
  {
   "cell_type": "code",
   "execution_count": 9,
   "metadata": {
    "ExecuteTime": {
     "end_time": "2021-09-23T22:57:16.881202Z",
     "start_time": "2021-09-23T22:57:16.866243Z"
    },
    "executionInfo": {
     "elapsed": 669,
     "status": "ok",
     "timestamp": 1615390540439,
     "user": {
      "displayName": "김기휘",
      "photoUrl": "https://lh3.googleusercontent.com/a-/AOh14GhIQFPUDr44-Q4-Cz9IVQp5qeMiQy2Y_bCaA3W6Mg=s64",
      "userId": "01816834924400046195"
     },
     "user_tz": -540
    },
    "id": "YWaZk0Q2tUqC"
   },
   "outputs": [],
   "source": [
    "import random\n",
    "random.seed(1004)"
   ]
  },
  {
   "cell_type": "code",
   "execution_count": 10,
   "metadata": {
    "ExecuteTime": {
     "end_time": "2021-09-23T22:57:16.897172Z",
     "start_time": "2021-09-23T22:57:16.882200Z"
    },
    "executionInfo": {
     "elapsed": 539,
     "status": "ok",
     "timestamp": 1615390540668,
     "user": {
      "displayName": "김기휘",
      "photoUrl": "https://lh3.googleusercontent.com/a-/AOh14GhIQFPUDr44-Q4-Cz9IVQp5qeMiQy2Y_bCaA3W6Mg=s64",
      "userId": "01816834924400046195"
     },
     "user_tz": -540
    },
    "id": "PHdCvN8ddYgb"
   },
   "outputs": [],
   "source": [
    "num_class = 5"
   ]
  },
  {
   "cell_type": "code",
   "execution_count": 11,
   "metadata": {
    "ExecuteTime": {
     "end_time": "2021-09-23T22:57:16.912758Z",
     "start_time": "2021-09-23T22:57:16.897796Z"
    },
    "executionInfo": {
     "elapsed": 472,
     "status": "ok",
     "timestamp": 1615390541180,
     "user": {
      "displayName": "김기휘",
      "photoUrl": "https://lh3.googleusercontent.com/a-/AOh14GhIQFPUDr44-Q4-Cz9IVQp5qeMiQy2Y_bCaA3W6Mg=s64",
      "userId": "01816834924400046195"
     },
     "user_tz": -540
    },
    "id": "1j5i2S2DawNE"
   },
   "outputs": [],
   "source": [
    "device = torch.device(\"cuda:0\")\n",
    "\n",
    "# import torch_xla\n",
    "# import torch_xla.core.xla_model as xm\n",
    "\n",
    "# net = torchvision.models.alexnet(num_classes=num_class)\n",
    "\n",
    "# # Acquires the default Cloud TPU core and moves the model to it\n",
    "# device = xm.xla_device()\n",
    "# net = net.to(device)"
   ]
  },
  {
   "cell_type": "code",
   "execution_count": 12,
   "metadata": {
    "ExecuteTime": {
     "end_time": "2021-09-23T22:57:20.736036Z",
     "start_time": "2021-09-23T22:57:16.913757Z"
    },
    "colab": {
     "base_uri": "https://localhost:8080/"
    },
    "executionInfo": {
     "elapsed": 7478,
     "status": "ok",
     "timestamp": 1615390549097,
     "user": {
      "displayName": "김기휘",
      "photoUrl": "https://lh3.googleusercontent.com/a-/AOh14GhIQFPUDr44-Q4-Cz9IVQp5qeMiQy2Y_bCaA3W6Mg=s64",
      "userId": "01816834924400046195"
     },
     "user_tz": -540
    },
    "id": "oGuv8ULva1N2",
    "outputId": "aadd9ee9-c4f1-4ff7-e3f2-8e3390f964f8",
    "scrolled": true
   },
   "outputs": [
    {
     "name": "stdout",
     "output_type": "stream",
     "text": [
      "using cached model\n",
      "using cached model\n",
      "using cached model\n"
     ]
    }
   ],
   "source": [
    "bertmodel, vocab = get_pytorch_kobert_model()\n",
    "tokenizer = get_tokenizer()\n",
    "tok = nlp.data.BERTSPTokenizer(tokenizer, vocab, lower=False)"
   ]
  },
  {
   "cell_type": "code",
   "execution_count": 14,
   "metadata": {
    "ExecuteTime": {
     "end_time": "2021-09-23T22:57:46.174361Z",
     "start_time": "2021-09-23T22:57:46.138458Z"
    },
    "scrolled": true
   },
   "outputs": [],
   "source": [
    "# 데이터 로딩\n",
    "df = pd.read_csv(\"data2/BMC_data.csv\")\n",
    "# df"
   ]
  },
  {
   "cell_type": "code",
   "execution_count": null,
   "metadata": {},
   "outputs": [],
   "source": []
  },
  {
   "cell_type": "code",
   "execution_count": 16,
   "metadata": {
    "ExecuteTime": {
     "end_time": "2021-09-23T22:57:53.669117Z",
     "start_time": "2021-09-23T22:57:53.653160Z"
    }
   },
   "outputs": [],
   "source": [
    "df2 = pd.read_csv(\"data2/고객세그먼트.csv\")\n",
    "# df2\n",
    "\n",
    "\n"
   ]
  },
  {
   "cell_type": "code",
   "execution_count": 17,
   "metadata": {
    "ExecuteTime": {
     "end_time": "2021-09-23T22:57:59.161854Z",
     "start_time": "2021-09-23T22:57:59.152850Z"
    }
   },
   "outputs": [],
   "source": [
    "total_df = pd.DataFrame()"
   ]
  },
  {
   "cell_type": "code",
   "execution_count": 18,
   "metadata": {
    "ExecuteTime": {
     "end_time": "2021-09-23T22:57:59.423551Z",
     "start_time": "2021-09-23T22:57:59.407594Z"
    }
   },
   "outputs": [],
   "source": [
    "total_df['기업명'] = df['기업명']"
   ]
  },
  {
   "cell_type": "code",
   "execution_count": 19,
   "metadata": {
    "ExecuteTime": {
     "end_time": "2021-09-23T22:57:59.700045Z",
     "start_time": "2021-09-23T22:57:59.663172Z"
    }
   },
   "outputs": [],
   "source": [
    "# text컬럼에 모든 컬럼 텍스트 합치기\n",
    "total_df['text'] = \"고객 세그먼트는 \"+ df['고객 세그먼트'] + \".\" +\\\n",
    "            \" 가치제안은 \" + df['가치제안'] + \".\" +\\\n",
    "            \" 마케팅채널은 \" + df['마케팅 채널'] + \".\" +\\\n",
    "            \" 고객관계는 \" + df['고객관계'] + \".\" +\\\n",
    "            \" 수익원은 \" + df['수익원'] + \".\" +\\\n",
    "            \" 핵심활동은 \" + df['핵심활동'] + \".\" +\\\n",
    "            \" 핵심자원은 \" + df['핵심자원'] + \".\" +\\\n",
    "            \" 핵심파트너는 \" + df['핵심파트너'] + \".\"\\\n",
    "            \" 비용구조는 \" + df['비용구조'] + \".\""
   ]
  },
  {
   "cell_type": "code",
   "execution_count": 20,
   "metadata": {
    "ExecuteTime": {
     "end_time": "2021-09-23T22:57:59.924446Z",
     "start_time": "2021-09-23T22:57:59.907491Z"
    }
   },
   "outputs": [],
   "source": [
    "# a = \"고객 세그먼트는 \"+ df['고객 세그먼트'] + \" 가치제안은 \" + df['가치제안'] + \" 마케팅채널은 \" + df['마케팅 채널'] + \" 고객관계는 \" +\\\n",
    "#     df['고객관계'] + \" 수익원은 \" + df['수익원'] + \" 핵심활동은 \" + df['핵심활동'] + \" 핵심자원은 \" + df['핵심자원'] + \" 핵심파트너는 \" +\\\n",
    "#     df['핵심파트너'] + \" 비용구조는 \" + df['비용구조']"
   ]
  },
  {
   "cell_type": "code",
   "execution_count": 21,
   "metadata": {
    "ExecuteTime": {
     "end_time": "2021-09-23T22:58:00.284062Z",
     "start_time": "2021-09-23T22:58:00.262112Z"
    }
   },
   "outputs": [
    {
     "data": {
      "text/html": [
       "<div>\n",
       "<style scoped>\n",
       "    .dataframe tbody tr th:only-of-type {\n",
       "        vertical-align: middle;\n",
       "    }\n",
       "\n",
       "    .dataframe tbody tr th {\n",
       "        vertical-align: top;\n",
       "    }\n",
       "\n",
       "    .dataframe thead th {\n",
       "        text-align: right;\n",
       "    }\n",
       "</style>\n",
       "<table border=\"1\" class=\"dataframe\">\n",
       "  <thead>\n",
       "    <tr style=\"text-align: right;\">\n",
       "      <th></th>\n",
       "      <th>기업명</th>\n",
       "      <th>text</th>\n",
       "    </tr>\n",
       "  </thead>\n",
       "  <tbody>\n",
       "    <tr>\n",
       "      <th>0</th>\n",
       "      <td>에이앤유디자인그룹건축사사무소</td>\n",
       "      <td>고객 세그먼트는 현대건설, 지에스건설 등 건설사\\nLH공사, SH공사, 지방 도시공...</td>\n",
       "    </tr>\n",
       "    <tr>\n",
       "      <th>1</th>\n",
       "      <td>멜텍스코리아 주식회사</td>\n",
       "      <td>고객 세그먼트는 전자부품MLCC(Multi Layer Ceramic Condense...</td>\n",
       "    </tr>\n",
       "    <tr>\n",
       "      <th>2</th>\n",
       "      <td>에스티엑스건설</td>\n",
       "      <td>고객 세그먼트는 주거용 건물 건축주(입주자아파트 등)\\n건설부문 외주 및 자재 생산...</td>\n",
       "    </tr>\n",
       "    <tr>\n",
       "      <th>3</th>\n",
       "      <td>충청산업보건연구원(주)</td>\n",
       "      <td>고객 세그먼트는 관공서(행정기관)석면사업부(조사, 감리, 측정)\\n제조업(대기업)작...</td>\n",
       "    </tr>\n",
       "    <tr>\n",
       "      <th>4</th>\n",
       "      <td>대동산업(주)</td>\n",
       "      <td>고객 세그먼트는 건설사, 시행사, 설계사무소\\n도소매 유통업체\\n건축주\\nLH공사,...</td>\n",
       "    </tr>\n",
       "    <tr>\n",
       "      <th>...</th>\n",
       "      <td>...</td>\n",
       "      <td>...</td>\n",
       "    </tr>\n",
       "    <tr>\n",
       "      <th>499</th>\n",
       "      <td>㈜케이바스</td>\n",
       "      <td>고객 세그먼트는 욕실 용품 유통업체\\n시행사, 시공사, 중소 건설사. 가치제안은 소...</td>\n",
       "    </tr>\n",
       "    <tr>\n",
       "      <th>500</th>\n",
       "      <td>진우엔티</td>\n",
       "      <td>고객 세그먼트는 노즐 및 밸브를 사용하는 기업\\n분수, 아파트 정원 공사업체\\n환경...</td>\n",
       "    </tr>\n",
       "    <tr>\n",
       "      <th>501</th>\n",
       "      <td>㈜에어붐</td>\n",
       "      <td>고객 세그먼트는 당사 1단계 목표 : 초중고등학교 \\n2단계 목표 :  B to C...</td>\n",
       "    </tr>\n",
       "    <tr>\n",
       "      <th>502</th>\n",
       "      <td>㈜킴스코파쎄</td>\n",
       "      <td>고객 세그먼트는 건설사(민영, 공영), 설계사무소, 시행사\\n건축자재 도소매 업체,...</td>\n",
       "    </tr>\n",
       "    <tr>\n",
       "      <th>503</th>\n",
       "      <td>㈜더부엔지니어링</td>\n",
       "      <td>고객 세그먼트는 건설사 / 시공사, 정부사업, 설계사무소\\n시행사, 설계 프로그램 ...</td>\n",
       "    </tr>\n",
       "  </tbody>\n",
       "</table>\n",
       "<p>504 rows × 2 columns</p>\n",
       "</div>"
      ],
      "text/plain": [
       "                 기업명                                               text\n",
       "0    에이앤유디자인그룹건축사사무소  고객 세그먼트는 현대건설, 지에스건설 등 건설사\\nLH공사, SH공사, 지방 도시공...\n",
       "1        멜텍스코리아 주식회사  고객 세그먼트는 전자부품MLCC(Multi Layer Ceramic Condense...\n",
       "2            에스티엑스건설  고객 세그먼트는 주거용 건물 건축주(입주자아파트 등)\\n건설부문 외주 및 자재 생산...\n",
       "3       충청산업보건연구원(주)  고객 세그먼트는 관공서(행정기관)석면사업부(조사, 감리, 측정)\\n제조업(대기업)작...\n",
       "4            대동산업(주)  고객 세그먼트는 건설사, 시행사, 설계사무소\\n도소매 유통업체\\n건축주\\nLH공사,...\n",
       "..               ...                                                ...\n",
       "499            ㈜케이바스  고객 세그먼트는 욕실 용품 유통업체\\n시행사, 시공사, 중소 건설사. 가치제안은 소...\n",
       "500             진우엔티  고객 세그먼트는 노즐 및 밸브를 사용하는 기업\\n분수, 아파트 정원 공사업체\\n환경...\n",
       "501             ㈜에어붐  고객 세그먼트는 당사 1단계 목표 : 초중고등학교 \\n2단계 목표 :  B to C...\n",
       "502           ㈜킴스코파쎄  고객 세그먼트는 건설사(민영, 공영), 설계사무소, 시행사\\n건축자재 도소매 업체,...\n",
       "503         ㈜더부엔지니어링  고객 세그먼트는 건설사 / 시공사, 정부사업, 설계사무소\\n시행사, 설계 프로그램 ...\n",
       "\n",
       "[504 rows x 2 columns]"
      ]
     },
     "execution_count": 21,
     "metadata": {},
     "output_type": "execute_result"
    }
   ],
   "source": [
    "total_df"
   ]
  },
  {
   "cell_type": "markdown",
   "metadata": {},
   "source": [
    "# Functions"
   ]
  },
  {
   "cell_type": "code",
   "execution_count": 22,
   "metadata": {
    "ExecuteTime": {
     "end_time": "2021-09-23T22:58:00.800645Z",
     "start_time": "2021-09-23T22:58:00.786683Z"
    }
   },
   "outputs": [],
   "source": [
    "# 데이터셋 컬럼의 중복을 제외한 2음절 이상의 vocab에 등록된 단어를 list로 만드는 함수 \n",
    "# 인자로 컬럼 하나의 데이터프레임이 들어가야함. e.g.) df['고객세그먼트'] \n",
    "\n",
    "def store_tokenized_words(one_dataset):\n",
    "    # 총 tokenizing 단어 리스트에 저장\n",
    "    token_list = []\n",
    "    for i in range(len(df)):\n",
    "#         print(tok(one_dataset[i]))\n",
    "        token_list.append(tok(one_dataset[i]))\n",
    "\n",
    "    # set에 tokenizing 단어 저장(중복제거)\n",
    "    token_set = []\n",
    "    for i in range(len(token_list)):\n",
    "        for j in range(len(token_list[i])):\n",
    "            token_set.append(token_list[i][j])\n",
    "    # set(token_list)\n",
    "\n",
    "    unique_set = set(token_set)\n",
    "    unique_list = list(unique_set)\n",
    "\n",
    "    # 한글자 tokenizing 단어 제외한 후 unique_company_list에 저장\n",
    "    unique_company_list = []\n",
    "    for i in unique_list:\n",
    "        if (i[0] == '▁') & (len(i) >=3):\n",
    "            unique_company_list.append(i)\n",
    "    #         print(i)  \n",
    "        if (i[0] != '▁') & (len(i) >=2):\n",
    "            unique_company_list.append(i)\n",
    "    #         print(i)\n",
    "\n",
    "    # 리스트의 단어에서 '_' 제거\n",
    "    for i in range(len(unique_company_list)):\n",
    "        unique_company_list[i] = unique_company_list[i].replace('▁',\"\")\n",
    "\n",
    "#     print(unique_company_list)\n",
    "    return unique_company_list"
   ]
  },
  {
   "cell_type": "code",
   "execution_count": 23,
   "metadata": {
    "ExecuteTime": {
     "end_time": "2021-09-23T22:58:01.047857Z",
     "start_time": "2021-09-23T22:58:01.032897Z"
    }
   },
   "outputs": [],
   "source": [
    "# 컬럼 내 모든 어절을 word_set에 저장(중복제외)하는 함수\n",
    "# 인자로 컬럼 하나의 데이터프레임이 들어가야함. e.g.) df['고객세그먼트'] \n",
    "\n",
    "def store_segmented_words(one_dataset):\n",
    "    word_set = set()\n",
    "    rm_list = [\"(\", \")\", \"\\n\", '\"', \",\"]\n",
    "\n",
    "    for sentence in one_dataset:\n",
    "        for rm in rm_list:\n",
    "            sentence = sentence.replace(rm, \" \")\n",
    "\n",
    "        sentence = sentence.split(\" \")\n",
    "        for word in sentence:\n",
    "#             print(word)\n",
    "            word_set.add(word)\n",
    "\n",
    "    return word_set"
   ]
  },
  {
   "cell_type": "code",
   "execution_count": 24,
   "metadata": {
    "ExecuteTime": {
     "end_time": "2021-09-23T22:58:01.328566Z",
     "start_time": "2021-09-23T22:58:01.313606Z"
    }
   },
   "outputs": [],
   "source": [
    "# vocab 단어와 컬럼의 어절을 비교하여 vocab에 저장되지 않은 단어를 리스트로 추출하는 함수\n",
    "\n",
    "def store_untokenized_words(segmented_words, tokenized_words):\n",
    "    modifying_list = []\n",
    "\n",
    "    for word in segmented_words:\n",
    "    #     print(word)\n",
    "        if word not in tokenized_words:\n",
    "            modifying_list.append(word)\n",
    "\n",
    "    return modifying_list"
   ]
  },
  {
   "cell_type": "code",
   "execution_count": 27,
   "metadata": {
    "ExecuteTime": {
     "end_time": "2021-09-23T22:58:48.974907Z",
     "start_time": "2021-09-23T22:58:48.318674Z"
    },
    "scrolled": true
   },
   "outputs": [
    {
     "data": {
      "text/plain": [
       "3222"
      ]
     },
     "execution_count": 27,
     "metadata": {},
     "output_type": "execute_result"
    }
   ],
   "source": [
    "tokenized_words = store_tokenized_words(total_df['text'])\n",
    "len(tokenized_words)"
   ]
  },
  {
   "cell_type": "code",
   "execution_count": 28,
   "metadata": {
    "ExecuteTime": {
     "end_time": "2021-09-23T22:58:49.019789Z",
     "start_time": "2021-09-23T22:58:48.986878Z"
    }
   },
   "outputs": [
    {
     "data": {
      "text/plain": [
       "22793"
      ]
     },
     "execution_count": 28,
     "metadata": {},
     "output_type": "execute_result"
    }
   ],
   "source": [
    "segmented_words = store_segmented_words(total_df['text'])\n",
    "len(segmented_words)"
   ]
  },
  {
   "cell_type": "code",
   "execution_count": 29,
   "metadata": {
    "ExecuteTime": {
     "end_time": "2021-09-23T22:58:50.275501Z",
     "start_time": "2021-09-23T22:58:49.453674Z"
    },
    "scrolled": true
   },
   "outputs": [
    {
     "data": {
      "text/plain": [
       "20853"
      ]
     },
     "execution_count": 29,
     "metadata": {},
     "output_type": "execute_result"
    }
   ],
   "source": [
    "untokenized_words = store_untokenized_words(segmented_words, tokenized_words)\n",
    "len(untokenized_words)"
   ]
  },
  {
   "cell_type": "code",
   "execution_count": 30,
   "metadata": {
    "ExecuteTime": {
     "end_time": "2021-09-23T22:58:50.291431Z",
     "start_time": "2021-09-23T22:58:50.276503Z"
    }
   },
   "outputs": [],
   "source": [
    "# untokenized_words"
   ]
  },
  {
   "cell_type": "code",
   "execution_count": 31,
   "metadata": {
    "ExecuteTime": {
     "end_time": "2021-09-23T22:58:50.679593Z",
     "start_time": "2021-09-23T22:58:50.661611Z"
    }
   },
   "outputs": [],
   "source": [
    "# untokenized_words_df 데이터프레임 변환\n",
    "untokenized_words_df = pd.DataFrame(untokenized_words, columns=[\"untokenized_word\"])"
   ]
  },
  {
   "cell_type": "code",
   "execution_count": 34,
   "metadata": {
    "ExecuteTime": {
     "end_time": "2021-09-23T22:58:57.523207Z",
     "start_time": "2021-09-23T22:58:57.472261Z"
    }
   },
   "outputs": [],
   "source": [
    "# csv로 저장\n",
    "untokenized_words_df.to_csv(\"data2/untokenized_words_df.csv\", encoding='utf-8-sig')"
   ]
  },
  {
   "cell_type": "code",
   "execution_count": 35,
   "metadata": {
    "ExecuteTime": {
     "end_time": "2021-09-23T22:58:58.021633Z",
     "start_time": "2021-09-23T22:58:58.006646Z"
    }
   },
   "outputs": [
    {
     "data": {
      "text/plain": [
       "['▁S', 'A', 'MS', 'U', 'N', 'G']"
      ]
     },
     "execution_count": 35,
     "metadata": {},
     "output_type": "execute_result"
    }
   ],
   "source": [
    "tok('SAMSUNG')"
   ]
  },
  {
   "cell_type": "code",
   "execution_count": 36,
   "metadata": {
    "ExecuteTime": {
     "end_time": "2021-09-23T22:58:58.284953Z",
     "start_time": "2021-09-23T22:58:58.267998Z"
    }
   },
   "outputs": [
    {
     "data": {
      "text/plain": [
       "['▁삼성']"
      ]
     },
     "execution_count": 36,
     "metadata": {},
     "output_type": "execute_result"
    }
   ],
   "source": [
    "tok('삼성')"
   ]
  },
  {
   "cell_type": "code",
   "execution_count": 37,
   "metadata": {
    "ExecuteTime": {
     "end_time": "2021-09-23T22:58:58.520018Z",
     "start_time": "2021-09-23T22:58:58.505058Z"
    },
    "scrolled": true
   },
   "outputs": [
    {
     "data": {
      "text/plain": [
       "['▁지', '에', '스']"
      ]
     },
     "execution_count": 37,
     "metadata": {},
     "output_type": "execute_result"
    }
   ],
   "source": [
    "tok('지에스')"
   ]
  },
  {
   "cell_type": "code",
   "execution_count": 38,
   "metadata": {
    "ExecuteTime": {
     "end_time": "2021-09-23T22:58:58.707416Z",
     "start_time": "2021-09-23T22:58:58.700435Z"
    }
   },
   "outputs": [
    {
     "data": {
      "text/plain": [
       "['▁GS']"
      ]
     },
     "execution_count": 38,
     "metadata": {},
     "output_type": "execute_result"
    }
   ],
   "source": [
    "tok('GS')"
   ]
  },
  {
   "cell_type": "code",
   "execution_count": 39,
   "metadata": {
    "ExecuteTime": {
     "end_time": "2021-09-23T22:58:58.909192Z",
     "start_time": "2021-09-23T22:58:58.891236Z"
    }
   },
   "outputs": [
    {
     "data": {
      "text/plain": [
       "['▁SNS']"
      ]
     },
     "execution_count": 39,
     "metadata": {},
     "output_type": "execute_result"
    }
   ],
   "source": [
    "tok('SNS')"
   ]
  },
  {
   "cell_type": "code",
   "execution_count": 40,
   "metadata": {
    "ExecuteTime": {
     "end_time": "2021-09-23T22:58:59.095745Z",
     "start_time": "2021-09-23T22:58:59.080785Z"
    }
   },
   "outputs": [
    {
     "data": {
      "text/plain": [
       "['▁', 'f', 'ac', 'e', 'b', 'o', 'o', 'k']"
      ]
     },
     "execution_count": 40,
     "metadata": {},
     "output_type": "execute_result"
    }
   ],
   "source": [
    "tok('facebook')"
   ]
  },
  {
   "cell_type": "code",
   "execution_count": 41,
   "metadata": {
    "ExecuteTime": {
     "end_time": "2021-09-23T22:58:59.529024Z",
     "start_time": "2021-09-23T22:58:59.523040Z"
    },
    "scrolled": false
   },
   "outputs": [
    {
     "data": {
      "text/plain": [
       "['▁', 'g', 'lo', 'b', 'al']"
      ]
     },
     "execution_count": 41,
     "metadata": {},
     "output_type": "execute_result"
    }
   ],
   "source": [
    "tok('global')"
   ]
  },
  {
   "cell_type": "code",
   "execution_count": 42,
   "metadata": {
    "ExecuteTime": {
     "end_time": "2021-09-23T22:58:59.731705Z",
     "start_time": "2021-09-23T22:58:59.712756Z"
    }
   },
   "outputs": [
    {
     "ename": "NameError",
     "evalue": "name 'unique_list' is not defined",
     "output_type": "error",
     "traceback": [
      "\u001b[1;31m---------------------------------------------------------------------------\u001b[0m",
      "\u001b[1;31mNameError\u001b[0m                                 Traceback (most recent call last)",
      "\u001b[1;32m<ipython-input-42-755408f152af>\u001b[0m in \u001b[0;36m<module>\u001b[1;34m\u001b[0m\n\u001b[0;32m      1\u001b[0m \u001b[0mmodifying_list\u001b[0m \u001b[1;33m=\u001b[0m \u001b[1;33m[\u001b[0m\u001b[1;33m]\u001b[0m\u001b[1;33m\u001b[0m\u001b[1;33m\u001b[0m\u001b[0m\n\u001b[1;32m----> 2\u001b[1;33m \u001b[1;32mfor\u001b[0m \u001b[0mtoken\u001b[0m \u001b[1;32min\u001b[0m \u001b[0munique_list\u001b[0m\u001b[1;33m:\u001b[0m\u001b[1;33m\u001b[0m\u001b[1;33m\u001b[0m\u001b[0m\n\u001b[0m\u001b[0;32m      3\u001b[0m     \u001b[1;32mif\u001b[0m \u001b[0mtoken\u001b[0m \u001b[1;32mnot\u001b[0m \u001b[1;32min\u001b[0m \u001b[0munique_company_list\u001b[0m\u001b[1;33m:\u001b[0m\u001b[1;33m\u001b[0m\u001b[1;33m\u001b[0m\u001b[0m\n\u001b[0;32m      4\u001b[0m         \u001b[0mmodifying_list\u001b[0m\u001b[1;33m.\u001b[0m\u001b[0mappend\u001b[0m\u001b[1;33m(\u001b[0m\u001b[0mtoken\u001b[0m\u001b[1;33m)\u001b[0m\u001b[1;33m\u001b[0m\u001b[1;33m\u001b[0m\u001b[0m\n\u001b[0;32m      5\u001b[0m \u001b[1;33m\u001b[0m\u001b[0m\n",
      "\u001b[1;31mNameError\u001b[0m: name 'unique_list' is not defined"
     ]
    }
   ],
   "source": [
    "modifying_list = []\n",
    "for token in unique_list:\n",
    "    if token not in unique_company_list:\n",
    "        modifying_list.append(token)\n",
    "        "
   ]
  },
  {
   "cell_type": "code",
   "execution_count": 44,
   "metadata": {
    "ExecuteTime": {
     "end_time": "2021-09-23T22:59:44.701829Z",
     "start_time": "2021-09-23T22:59:44.696842Z"
    }
   },
   "outputs": [
    {
     "data": {
      "text/plain": [
       "0"
      ]
     },
     "execution_count": 44,
     "metadata": {},
     "output_type": "execute_result"
    }
   ],
   "source": [
    "len(modifying_list)"
   ]
  },
  {
   "cell_type": "code",
   "execution_count": null,
   "metadata": {
    "ExecuteTime": {
     "end_time": "2021-09-23T22:57:21.738339Z",
     "start_time": "2021-09-23T22:57:10.143Z"
    },
    "scrolled": true
   },
   "outputs": [],
   "source": [
    "# modifying_list"
   ]
  },
  {
   "cell_type": "code",
   "execution_count": 45,
   "metadata": {
    "ExecuteTime": {
     "end_time": "2021-09-23T22:59:46.982140Z",
     "start_time": "2021-09-23T22:59:46.970171Z"
    }
   },
   "outputs": [],
   "source": [
    "import re"
   ]
  },
  {
   "cell_type": "code",
   "execution_count": 46,
   "metadata": {
    "ExecuteTime": {
     "end_time": "2021-09-23T22:59:47.279807Z",
     "start_time": "2021-09-23T22:59:47.262852Z"
    }
   },
   "outputs": [],
   "source": [
    "p = re.compile(\"[a-z]+\")"
   ]
  },
  {
   "cell_type": "code",
   "execution_count": 47,
   "metadata": {
    "ExecuteTime": {
     "end_time": "2021-09-23T22:59:47.531513Z",
     "start_time": "2021-09-23T22:59:47.514558Z"
    }
   },
   "outputs": [
    {
     "name": "stdout",
     "output_type": "stream",
     "text": [
      "<re.Match object; span=(0, 6), match='python'>\n"
     ]
    }
   ],
   "source": [
    "m = p.match(\"python\")\n",
    "print(m)"
   ]
  },
  {
   "cell_type": "code",
   "execution_count": 48,
   "metadata": {
    "ExecuteTime": {
     "end_time": "2021-09-23T22:59:47.750581Z",
     "start_time": "2021-09-23T22:59:47.735620Z"
    }
   },
   "outputs": [
    {
     "name": "stdout",
     "output_type": "stream",
     "text": [
      "None\n"
     ]
    }
   ],
   "source": [
    "m = p.match(\"3 python\")\n",
    "print(m)"
   ]
  },
  {
   "cell_type": "code",
   "execution_count": 49,
   "metadata": {
    "ExecuteTime": {
     "end_time": "2021-09-23T22:59:47.981448Z",
     "start_time": "2021-09-23T22:59:47.963469Z"
    }
   },
   "outputs": [
    {
     "name": "stdout",
     "output_type": "stream",
     "text": [
      "Match found:  string\n"
     ]
    }
   ],
   "source": [
    "p = re.compile('[a-z]+')\n",
    "m = p.match('string goes here')\n",
    "if m:\n",
    "    print('Match found: ', m.group())\n",
    "else:\n",
    "    print('No match')"
   ]
  },
  {
   "cell_type": "code",
   "execution_count": 50,
   "metadata": {
    "ExecuteTime": {
     "end_time": "2021-09-23T22:59:48.227427Z",
     "start_time": "2021-09-23T22:59:48.215488Z"
    }
   },
   "outputs": [
    {
     "name": "stdout",
     "output_type": "stream",
     "text": [
      "['SAMSUNGB2B', 'samsung', 'LG', 'SNS', 'Core', 'value', 'facebook']\n"
     ]
    }
   ],
   "source": [
    "p = re.compile(\"[a-z0-9_]+\", re.I)\n",
    "result = p.findall(\"SAMSUNG\" \"B2B samsung\\nLG, SNS, Core value를 달성\\\n",
    "                   facebook\")\n",
    "print(result)"
   ]
  },
  {
   "cell_type": "code",
   "execution_count": 51,
   "metadata": {
    "ExecuteTime": {
     "end_time": "2021-09-23T22:59:48.660198Z",
     "start_time": "2021-09-23T22:59:48.625903Z"
    }
   },
   "outputs": [],
   "source": [
    "segmented_words = store_segmented_words(total_df['text'])"
   ]
  },
  {
   "cell_type": "code",
   "execution_count": 52,
   "metadata": {
    "ExecuteTime": {
     "end_time": "2021-09-23T22:59:49.158058Z",
     "start_time": "2021-09-23T22:59:49.151076Z"
    }
   },
   "outputs": [],
   "source": [
    "# segmented_words"
   ]
  },
  {
   "cell_type": "code",
   "execution_count": 53,
   "metadata": {
    "ExecuteTime": {
     "end_time": "2021-09-23T22:59:49.628516Z",
     "start_time": "2021-09-23T22:59:49.617545Z"
    }
   },
   "outputs": [],
   "source": [
    "segmented_words_list = list(segmented_words)\n",
    "concat_words = \"\"\n",
    "for word in segmented_words_list:\n",
    "    concat_words += word"
   ]
  },
  {
   "cell_type": "code",
   "execution_count": 54,
   "metadata": {
    "ExecuteTime": {
     "end_time": "2021-09-23T22:59:50.090519Z",
     "start_time": "2021-09-23T22:59:50.075559Z"
    }
   },
   "outputs": [],
   "source": [
    "# concat_words"
   ]
  },
  {
   "cell_type": "code",
   "execution_count": 55,
   "metadata": {
    "ExecuteTime": {
     "end_time": "2021-09-23T22:59:50.341912Z",
     "start_time": "2021-09-23T22:59:50.333961Z"
    },
    "scrolled": true
   },
   "outputs": [],
   "source": [
    "result = p.findall(concat_words)\n",
    "# print(result)"
   ]
  },
  {
   "cell_type": "code",
   "execution_count": null,
   "metadata": {},
   "outputs": [],
   "source": []
  },
  {
   "cell_type": "code",
   "execution_count": 56,
   "metadata": {
    "ExecuteTime": {
     "end_time": "2021-09-23T22:59:50.995372Z",
     "start_time": "2021-09-23T22:59:50.941085Z"
    }
   },
   "outputs": [],
   "source": [
    "tok_words = []\n",
    "untokenized_words = []\n",
    "for i in result:\n",
    "#     print(i)\n",
    "    if len(tok(i)) > 1:\n",
    "#         print(tok(i))\n",
    "        tok_words.append(tok(i))\n",
    "        untokenized_words.append(i)"
   ]
  },
  {
   "cell_type": "code",
   "execution_count": 57,
   "metadata": {
    "ExecuteTime": {
     "end_time": "2021-09-23T22:59:51.213979Z",
     "start_time": "2021-09-23T22:59:51.206997Z"
    }
   },
   "outputs": [],
   "source": [
    "data = {\"tok_words\":tok_words, \"untokenized_word\" : untokenized_words}\n",
    "untokenized_eng_df = pd.DataFrame(data)"
   ]
  },
  {
   "cell_type": "code",
   "execution_count": 58,
   "metadata": {
    "ExecuteTime": {
     "end_time": "2021-09-23T22:59:51.495082Z",
     "start_time": "2021-09-23T22:59:51.485108Z"
    },
    "scrolled": true
   },
   "outputs": [
    {
     "data": {
      "text/html": [
       "<div>\n",
       "<style scoped>\n",
       "    .dataframe tbody tr th:only-of-type {\n",
       "        vertical-align: middle;\n",
       "    }\n",
       "\n",
       "    .dataframe tbody tr th {\n",
       "        vertical-align: top;\n",
       "    }\n",
       "\n",
       "    .dataframe thead th {\n",
       "        text-align: right;\n",
       "    }\n",
       "</style>\n",
       "<table border=\"1\" class=\"dataframe\">\n",
       "  <thead>\n",
       "    <tr style=\"text-align: right;\">\n",
       "      <th></th>\n",
       "      <th>tok_words</th>\n",
       "      <th>untokenized_word</th>\n",
       "    </tr>\n",
       "  </thead>\n",
       "  <tbody>\n",
       "    <tr>\n",
       "      <th>0</th>\n",
       "      <td>[▁B, 2, c]</td>\n",
       "      <td>B2c</td>\n",
       "    </tr>\n",
       "    <tr>\n",
       "      <th>1</th>\n",
       "      <td>[▁A, G, AT, E]</td>\n",
       "      <td>AGATE</td>\n",
       "    </tr>\n",
       "    <tr>\n",
       "      <th>2</th>\n",
       "      <td>[▁P, F]</td>\n",
       "      <td>PF</td>\n",
       "    </tr>\n",
       "    <tr>\n",
       "      <th>3</th>\n",
       "      <td>[▁A, ur, o]</td>\n",
       "      <td>Auro</td>\n",
       "    </tr>\n",
       "    <tr>\n",
       "      <th>4</th>\n",
       "      <td>[▁H, e, ad, p, h, on, e]</td>\n",
       "      <td>Headphone</td>\n",
       "    </tr>\n",
       "    <tr>\n",
       "      <th>...</th>\n",
       "      <td>...</td>\n",
       "      <td>...</td>\n",
       "    </tr>\n",
       "    <tr>\n",
       "      <th>1370</th>\n",
       "      <td>[▁E, n, g, a, g, e, m, ent]</td>\n",
       "      <td>Engagement</td>\n",
       "    </tr>\n",
       "    <tr>\n",
       "      <th>1371</th>\n",
       "      <td>[▁, AS]</td>\n",
       "      <td>AS</td>\n",
       "    </tr>\n",
       "    <tr>\n",
       "      <th>1372</th>\n",
       "      <td>[▁E, S, G]</td>\n",
       "      <td>ESG</td>\n",
       "    </tr>\n",
       "    <tr>\n",
       "      <th>1373</th>\n",
       "      <td>[▁, es, p, or, t, s]</td>\n",
       "      <td>esports</td>\n",
       "    </tr>\n",
       "    <tr>\n",
       "      <th>1374</th>\n",
       "      <td>[▁I, n, d, us, t, r, y]</td>\n",
       "      <td>Industry</td>\n",
       "    </tr>\n",
       "  </tbody>\n",
       "</table>\n",
       "<p>1375 rows × 2 columns</p>\n",
       "</div>"
      ],
      "text/plain": [
       "                        tok_words untokenized_word\n",
       "0                      [▁B, 2, c]              B2c\n",
       "1                  [▁A, G, AT, E]            AGATE\n",
       "2                         [▁P, F]               PF\n",
       "3                     [▁A, ur, o]             Auro\n",
       "4        [▁H, e, ad, p, h, on, e]        Headphone\n",
       "...                           ...              ...\n",
       "1370  [▁E, n, g, a, g, e, m, ent]       Engagement\n",
       "1371                      [▁, AS]               AS\n",
       "1372                   [▁E, S, G]              ESG\n",
       "1373         [▁, es, p, or, t, s]          esports\n",
       "1374      [▁I, n, d, us, t, r, y]         Industry\n",
       "\n",
       "[1375 rows x 2 columns]"
      ]
     },
     "execution_count": 58,
     "metadata": {},
     "output_type": "execute_result"
    }
   ],
   "source": [
    "untokenized_eng_df"
   ]
  },
  {
   "cell_type": "code",
   "execution_count": 61,
   "metadata": {
    "ExecuteTime": {
     "end_time": "2021-09-23T22:59:57.128452Z",
     "start_time": "2021-09-23T22:59:57.116456Z"
    }
   },
   "outputs": [],
   "source": [
    "untokenized_eng_df.to_csv('data2/untokenized_eng_df.csv',encoding='utf-8-sig')"
   ]
  },
  {
   "cell_type": "code",
   "execution_count": 62,
   "metadata": {
    "ExecuteTime": {
     "end_time": "2021-09-23T22:59:57.613485Z",
     "start_time": "2021-09-23T22:59:57.594512Z"
    }
   },
   "outputs": [
    {
     "data": {
      "text/plain": [
       "['▁오', '프라', '인']"
      ]
     },
     "execution_count": 62,
     "metadata": {},
     "output_type": "execute_result"
    }
   ],
   "source": [
    "tok('오프라인')"
   ]
  },
  {
   "cell_type": "code",
   "execution_count": null,
   "metadata": {},
   "outputs": [],
   "source": []
  },
  {
   "cell_type": "code",
   "execution_count": null,
   "metadata": {},
   "outputs": [],
   "source": []
  }
 ],
 "metadata": {
  "kernelspec": {
   "display_name": "Python 3",
   "language": "python",
   "name": "python3"
  },
  "language_info": {
   "codemirror_mode": {
    "name": "ipython",
    "version": 3
   },
   "file_extension": ".py",
   "mimetype": "text/x-python",
   "name": "python",
   "nbconvert_exporter": "python",
   "pygments_lexer": "ipython3",
   "version": "3.8.5"
  },
  "toc": {
   "base_numbering": 1,
   "nav_menu": {},
   "number_sections": true,
   "sideBar": true,
   "skip_h1_title": false,
   "title_cell": "Table of Contents",
   "title_sidebar": "Contents",
   "toc_cell": false,
   "toc_position": {},
   "toc_section_display": true,
   "toc_window_display": false
  }
 },
 "nbformat": 4,
 "nbformat_minor": 5
}
