{
 "cells": [
  {
   "cell_type": "code",
   "execution_count": 2,
   "metadata": {
    "ExecuteTime": {
     "end_time": "2021-09-23T23:46:22.067823Z",
     "start_time": "2021-09-23T23:46:21.718460Z"
    }
   },
   "outputs": [],
   "source": [
    "# 데이터 로딩\n",
    "import pandas as pd\n",
    "original_df = pd.read_csv(\"data/original_data/BMC_data.csv\")"
   ]
  },
  {
   "cell_type": "code",
   "execution_count": 10,
   "metadata": {
    "ExecuteTime": {
     "end_time": "2021-09-23T23:49:13.742538Z",
     "start_time": "2021-09-23T23:49:13.696661Z"
    }
   },
   "outputs": [],
   "source": [
    "\n",
    "df1 = pd.DataFrame()\n",
    "df1['text'] =  original_df['고객 세그먼트'] + \".\" +\\\n",
    "             + original_df['가치제안'] + \".\" +\\\n",
    "             + original_df['마케팅 채널'] + \".\" +\\\n",
    "             + original_df['고객관계'] + \".\" +\\\n",
    "             + original_df['수익원'] + \".\" +\\\n",
    "             + original_df['핵심활동'] + \".\" +\\\n",
    "             + original_df['핵심자원'] + \".\" +\\\n",
    "             + original_df['핵심파트너'] + \".\"\\\n",
    "             + original_df['비용구조'] + \".\"\n",
    "# total_df['text'] = original_df['text'].replace('\\n', \",\")\n",
    "\n",
    "row_length = len(df1)\n",
    "for i in range(row_length):\n",
    "    df1['text'][i] = df1['text'][i].replace('\\n', \",\")"
   ]
  },
  {
   "cell_type": "code",
   "execution_count": 11,
   "metadata": {
    "ExecuteTime": {
     "end_time": "2021-09-23T23:49:14.782436Z",
     "start_time": "2021-09-23T23:49:14.771467Z"
    }
   },
   "outputs": [],
   "source": [
    "df1['기업명'] = original_df['기업명']"
   ]
  },
  {
   "cell_type": "code",
   "execution_count": 12,
   "metadata": {
    "ExecuteTime": {
     "end_time": "2021-09-23T23:49:15.219527Z",
     "start_time": "2021-09-23T23:49:15.201488Z"
    }
   },
   "outputs": [],
   "source": [
    "df2 = pd.read_csv('data/preprocessed_labelled_final_df.csv')"
   ]
  },
  {
   "cell_type": "code",
   "execution_count": 13,
   "metadata": {
    "ExecuteTime": {
     "end_time": "2021-09-23T23:49:15.622584Z",
     "start_time": "2021-09-23T23:49:15.609619Z"
    }
   },
   "outputs": [],
   "source": [
    "del df2['Unnamed: 0']\n",
    "del df2['Unnamed: 0.1']\n",
    "del df2['text']"
   ]
  },
  {
   "cell_type": "code",
   "execution_count": 14,
   "metadata": {
    "ExecuteTime": {
     "end_time": "2021-09-23T23:49:16.387192Z",
     "start_time": "2021-09-23T23:49:16.376221Z"
    }
   },
   "outputs": [],
   "source": [
    "merged_df = pd.merge(df2,df1, how='inner', on='기업명')"
   ]
  },
  {
   "cell_type": "code",
   "execution_count": 15,
   "metadata": {
    "ExecuteTime": {
     "end_time": "2021-09-23T23:49:16.975943Z",
     "start_time": "2021-09-23T23:49:16.950968Z"
    }
   },
   "outputs": [],
   "source": [
    "# 데이터 내보내기\n",
    "merged_df.to_csv('data/flattened_txt_df2.csv', encoding='utf-8-sig')"
   ]
  },
  {
   "cell_type": "code",
   "execution_count": null,
   "metadata": {},
   "outputs": [],
   "source": []
  },
  {
   "cell_type": "code",
   "execution_count": null,
   "metadata": {},
   "outputs": [],
   "source": []
  }
 ],
 "metadata": {
  "kernelspec": {
   "display_name": "Python 3",
   "language": "python",
   "name": "python3"
  },
  "language_info": {
   "codemirror_mode": {
    "name": "ipython",
    "version": 3
   },
   "file_extension": ".py",
   "mimetype": "text/x-python",
   "name": "python",
   "nbconvert_exporter": "python",
   "pygments_lexer": "ipython3",
   "version": "3.8.5"
  },
  "toc": {
   "base_numbering": 1,
   "nav_menu": {},
   "number_sections": true,
   "sideBar": true,
   "skip_h1_title": false,
   "title_cell": "Table of Contents",
   "title_sidebar": "Contents",
   "toc_cell": false,
   "toc_position": {},
   "toc_section_display": true,
   "toc_window_display": false
  }
 },
 "nbformat": 4,
 "nbformat_minor": 4
}
