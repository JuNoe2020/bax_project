{
 "cells": [
  {
   "cell_type": "markdown",
   "metadata": {
    "id": "KPs0iJbQanjb"
   },
   "source": [
    "# Setting Develop Environment"
   ]
  },
  {
   "cell_type": "markdown",
   "metadata": {
    "id": "0tB-TF0Sew_h"
   },
   "source": [
    "## 코랩 환경에서 사용하는 경우"
   ]
  },
  {
   "cell_type": "code",
   "execution_count": 1,
   "metadata": {
    "colab": {
     "base_uri": "https://localhost:8080/"
    },
    "executionInfo": {
     "elapsed": 573,
     "status": "ok",
     "timestamp": 1615379555316,
     "user": {
      "displayName": "김기휘",
      "photoUrl": "https://lh3.googleusercontent.com/a-/AOh14GhIQFPUDr44-Q4-Cz9IVQp5qeMiQy2Y_bCaA3W6Mg=s64",
      "userId": "01816834924400046195"
     },
     "user_tz": -540
    },
    "id": "GwAWP1kkVDP3",
    "outputId": "6746d5d9-3558-4281-f482-5d6507b897b1"
   },
   "outputs": [
    {
     "name": "stdout",
     "output_type": "stream",
     "text": [
      "Drive already mounted at /content/drive; to attempt to forcibly remount, call drive.mount(\"/content/drive\", force_remount=True).\n"
     ]
    }
   ],
   "source": [
    "from google.colab import drive\n",
    "drive.mount('/content/drive') "
   ]
  },
  {
   "cell_type": "code",
   "execution_count": 2,
   "metadata": {
    "colab": {
     "base_uri": "https://localhost:8080/"
    },
    "executionInfo": {
     "elapsed": 689,
     "status": "ok",
     "timestamp": 1615379560967,
     "user": {
      "displayName": "김기휘",
      "photoUrl": "https://lh3.googleusercontent.com/a-/AOh14GhIQFPUDr44-Q4-Cz9IVQp5qeMiQy2Y_bCaA3W6Mg=s64",
      "userId": "01816834924400046195"
     },
     "user_tz": -540
    },
    "id": "NvlDGBk7VgeC",
    "outputId": "8af3b121-176b-4c6e-9250-89a5dfb034ea"
   },
   "outputs": [
    {
     "name": "stdout",
     "output_type": "stream",
     "text": [
      "/content/drive/MyDrive/Colab Notebooks/BERT_BMC\n"
     ]
    }
   ],
   "source": [
    "cd '/content/drive/MyDrive/Colab Notebooks/BERT_BMC/'"
   ]
  },
  {
   "cell_type": "code",
   "execution_count": 3,
   "metadata": {
    "colab": {
     "base_uri": "https://localhost:8080/"
    },
    "executionInfo": {
     "elapsed": 755,
     "status": "ok",
     "timestamp": 1615379561199,
     "user": {
      "displayName": "김기휘",
      "photoUrl": "https://lh3.googleusercontent.com/a-/AOh14GhIQFPUDr44-Q4-Cz9IVQp5qeMiQy2Y_bCaA3W6Mg=s64",
      "userId": "01816834924400046195"
     },
     "user_tz": -540
    },
    "id": "-rO0PoX2Vp9k",
    "outputId": "bab7bfca-bbec-4464-d781-43a92b25f9d3"
   },
   "outputs": [
    {
     "name": "stdout",
     "output_type": "stream",
     "text": [
      "/content/drive/MyDrive/Colab Notebooks/BERT_BMC\n"
     ]
    }
   ],
   "source": [
    "import os\n",
    "print(os.getcwd())"
   ]
  },
  {
   "cell_type": "code",
   "execution_count": 4,
   "metadata": {
    "colab": {
     "base_uri": "https://localhost:8080/"
    },
    "executionInfo": {
     "elapsed": 573,
     "status": "ok",
     "timestamp": 1615379561200,
     "user": {
      "displayName": "김기휘",
      "photoUrl": "https://lh3.googleusercontent.com/a-/AOh14GhIQFPUDr44-Q4-Cz9IVQp5qeMiQy2Y_bCaA3W6Mg=s64",
      "userId": "01816834924400046195"
     },
     "user_tz": -540
    },
    "id": "DPBfA6kaW2Hp",
    "outputId": "36d140e8-2946-4902-98eb-884da7ce7494"
   },
   "outputs": [
    {
     "name": "stdout",
     "output_type": "stream",
     "text": [
      "BMC_analysis.ipynb  data  font\tKoBERT\tpytorch-xla-env-setup.py  result\n"
     ]
    }
   ],
   "source": [
    "!ls"
   ]
  },
  {
   "cell_type": "code",
   "execution_count": null,
   "metadata": {
    "id": "GapTrIWoRMIX"
   },
   "outputs": [],
   "source": [
    "!nvidia-smi"
   ]
  },
  {
   "cell_type": "markdown",
   "metadata": {
    "id": "eahoUb2Je5AR"
   },
   "source": [
    "## 주요 라이브러리 설치"
   ]
  },
  {
   "cell_type": "code",
   "execution_count": null,
   "metadata": {
    "id": "IV8RPUmcSrMB"
   },
   "outputs": [],
   "source": [
    "!pip install torch==1.8.0+cu111 torchvision==0.9.0+cu111 torchaudio==0.8.0 -f https://download.pytorch.org/whl/torch_stable.html"
   ]
  },
  {
   "cell_type": "code",
   "execution_count": null,
   "metadata": {
    "id": "ddRbnECHSbsL"
   },
   "outputs": [],
   "source": [
    "!git clone https://github.com/SKTBrain/KoBERT.git"
   ]
  },
  {
   "cell_type": "code",
   "execution_count": 19,
   "metadata": {
    "executionInfo": {
     "elapsed": 561,
     "status": "ok",
     "timestamp": 1615373412393,
     "user": {
      "displayName": "김기휘",
      "photoUrl": "https://lh3.googleusercontent.com/a-/AOh14GhIQFPUDr44-Q4-Cz9IVQp5qeMiQy2Y_bCaA3W6Mg=s64",
      "userId": "01816834924400046195"
     },
     "user_tz": -540
    },
    "id": "62s0tgvnXrLa"
   },
   "outputs": [],
   "source": [
    "!cd KoBERT"
   ]
  },
  {
   "cell_type": "code",
   "execution_count": null,
   "metadata": {
    "id": "s4L0wulEXtS5"
   },
   "outputs": [],
   "source": [
    "!pip install -r requirements.txt\n",
    "!pip install ."
   ]
  },
  {
   "cell_type": "code",
   "execution_count": 21,
   "metadata": {
    "executionInfo": {
     "elapsed": 724,
     "status": "ok",
     "timestamp": 1615373418334,
     "user": {
      "displayName": "김기휘",
      "photoUrl": "https://lh3.googleusercontent.com/a-/AOh14GhIQFPUDr44-Q4-Cz9IVQp5qeMiQy2Y_bCaA3W6Mg=s64",
      "userId": "01816834924400046195"
     },
     "user_tz": -540
    },
    "id": "l4AFfAPoX1OJ"
   },
   "outputs": [],
   "source": [
    "!cd .."
   ]
  },
  {
   "cell_type": "code",
   "execution_count": 5,
   "metadata": {
    "colab": {
     "base_uri": "https://localhost:8080/"
    },
    "executionInfo": {
     "elapsed": 8518,
     "status": "ok",
     "timestamp": 1615375143658,
     "user": {
      "displayName": "김기휘",
      "photoUrl": "https://lh3.googleusercontent.com/a-/AOh14GhIQFPUDr44-Q4-Cz9IVQp5qeMiQy2Y_bCaA3W6Mg=s64",
      "userId": "01816834924400046195"
     },
     "user_tz": -540
    },
    "id": "1Dzif-wHnCoH",
    "outputId": "5e1db66b-ee17-4659-e967-b6bee6f5b258"
   },
   "outputs": [
    {
     "name": "stdout",
     "output_type": "stream",
     "text": [
      "Collecting transformers==3\n",
      "\u001b[?25l  Downloading https://files.pythonhosted.org/packages/9c/35/1c3f6e62d81f5f0daff1384e6d5e6c5758682a8357ebc765ece2b9def62b/transformers-3.0.0-py3-none-any.whl (754kB)\n",
      "\u001b[K     |████████████████████████████████| 757kB 5.8MB/s \n",
      "\u001b[?25hRequirement already satisfied: packaging in /usr/local/lib/python3.7/dist-packages (from transformers==3) (20.9)\n",
      "Requirement already satisfied: regex!=2019.12.17 in /usr/local/lib/python3.7/dist-packages (from transformers==3) (2019.12.20)\n",
      "Collecting sentencepiece\n",
      "\u001b[?25l  Downloading https://files.pythonhosted.org/packages/f5/99/e0808cb947ba10f575839c43e8fafc9cc44e4a7a2c8f79c60db48220a577/sentencepiece-0.1.95-cp37-cp37m-manylinux2014_x86_64.whl (1.2MB)\n",
      "\u001b[K     |████████████████████████████████| 1.2MB 7.9MB/s \n",
      "\u001b[?25hCollecting tokenizers==0.8.0-rc4\n",
      "\u001b[?25l  Downloading https://files.pythonhosted.org/packages/f7/82/0e82a95bd9db2b32569500cc1bb47aa7c4e0f57aa5e35cceba414096917b/tokenizers-0.8.0rc4-cp37-cp37m-manylinux1_x86_64.whl (3.0MB)\n",
      "\u001b[K     |████████████████████████████████| 3.0MB 18.0MB/s \n",
      "\u001b[?25hCollecting sacremoses\n",
      "\u001b[?25l  Downloading https://files.pythonhosted.org/packages/7d/34/09d19aff26edcc8eb2a01bed8e98f13a1537005d31e95233fd48216eed10/sacremoses-0.0.43.tar.gz (883kB)\n",
      "\u001b[K     |████████████████████████████████| 890kB 34.7MB/s \n",
      "\u001b[?25hRequirement already satisfied: requests in /usr/local/lib/python3.7/dist-packages (from transformers==3) (2.23.0)\n",
      "Requirement already satisfied: tqdm>=4.27 in /usr/local/lib/python3.7/dist-packages (from transformers==3) (4.41.1)\n",
      "Requirement already satisfied: filelock in /usr/local/lib/python3.7/dist-packages (from transformers==3) (3.0.12)\n",
      "Requirement already satisfied: numpy in /usr/local/lib/python3.7/dist-packages (from transformers==3) (1.19.5)\n",
      "Requirement already satisfied: pyparsing>=2.0.2 in /usr/local/lib/python3.7/dist-packages (from packaging->transformers==3) (2.4.7)\n",
      "Requirement already satisfied: six in /usr/local/lib/python3.7/dist-packages (from sacremoses->transformers==3) (1.15.0)\n",
      "Requirement already satisfied: click in /usr/local/lib/python3.7/dist-packages (from sacremoses->transformers==3) (7.1.2)\n",
      "Requirement already satisfied: joblib in /usr/local/lib/python3.7/dist-packages (from sacremoses->transformers==3) (1.0.1)\n",
      "Requirement already satisfied: urllib3!=1.25.0,!=1.25.1,<1.26,>=1.21.1 in /usr/local/lib/python3.7/dist-packages (from requests->transformers==3) (1.24.3)\n",
      "Requirement already satisfied: chardet<4,>=3.0.2 in /usr/local/lib/python3.7/dist-packages (from requests->transformers==3) (3.0.4)\n",
      "Requirement already satisfied: idna<3,>=2.5 in /usr/local/lib/python3.7/dist-packages (from requests->transformers==3) (2.10)\n",
      "Requirement already satisfied: certifi>=2017.4.17 in /usr/local/lib/python3.7/dist-packages (from requests->transformers==3) (2020.12.5)\n",
      "Building wheels for collected packages: sacremoses\n",
      "  Building wheel for sacremoses (setup.py) ... \u001b[?25l\u001b[?25hdone\n",
      "  Created wheel for sacremoses: filename=sacremoses-0.0.43-cp37-none-any.whl size=893262 sha256=c7b1cbac525c9b8c56466397588b87ac24d24fc197003e141532ce44ad693b92\n",
      "  Stored in directory: /root/.cache/pip/wheels/29/3c/fd/7ce5c3f0666dab31a50123635e6fb5e19ceb42ce38d4e58f45\n",
      "Successfully built sacremoses\n",
      "Installing collected packages: sentencepiece, tokenizers, sacremoses, transformers\n",
      "Successfully installed sacremoses-0.0.43 sentencepiece-0.1.95 tokenizers-0.8.0rc4 transformers-3.0.0\n"
     ]
    }
   ],
   "source": [
    "!pip install transformers==3"
   ]
  },
  {
   "cell_type": "code",
   "execution_count": 6,
   "metadata": {
    "colab": {
     "base_uri": "https://localhost:8080/"
    },
    "executionInfo": {
     "elapsed": 15483,
     "status": "ok",
     "timestamp": 1615375151280,
     "user": {
      "displayName": "김기휘",
      "photoUrl": "https://lh3.googleusercontent.com/a-/AOh14GhIQFPUDr44-Q4-Cz9IVQp5qeMiQy2Y_bCaA3W6Mg=s64",
      "userId": "01816834924400046195"
     },
     "user_tz": -540
    },
    "id": "Fd4olM-TaOTp",
    "outputId": "9a097329-1521-477e-dcc2-7246adca1b02"
   },
   "outputs": [
    {
     "name": "stdout",
     "output_type": "stream",
     "text": [
      "Collecting gluonnlp\n",
      "\u001b[?25l  Downloading https://files.pythonhosted.org/packages/9c/81/a238e47ccba0d7a61dcef4e0b4a7fd4473cb86bed3d84dd4fe28d45a0905/gluonnlp-0.10.0.tar.gz (344kB)\n",
      "\u001b[K     |████████████████████████████████| 348kB 6.0MB/s \n",
      "\u001b[?25hRequirement already satisfied: numpy>=1.16.0 in /usr/local/lib/python3.7/dist-packages (from gluonnlp) (1.19.5)\n",
      "Requirement already satisfied: cython in /usr/local/lib/python3.7/dist-packages (from gluonnlp) (0.29.22)\n",
      "Requirement already satisfied: packaging in /usr/local/lib/python3.7/dist-packages (from gluonnlp) (20.9)\n",
      "Requirement already satisfied: pyparsing>=2.0.2 in /usr/local/lib/python3.7/dist-packages (from packaging->gluonnlp) (2.4.7)\n",
      "Building wheels for collected packages: gluonnlp\n",
      "  Building wheel for gluonnlp (setup.py) ... \u001b[?25l\u001b[?25hdone\n",
      "  Created wheel for gluonnlp: filename=gluonnlp-0.10.0-cp37-cp37m-linux_x86_64.whl size=595680 sha256=dd36f4101dc09ac6c0f66830fa6ee0c52be7eebc01db73e86b68bae16cb7d9ca\n",
      "  Stored in directory: /root/.cache/pip/wheels/37/65/52/63032864a0f31a08b9a88569f803b5bafac8abd207fd7f7534\n",
      "Successfully built gluonnlp\n",
      "Installing collected packages: gluonnlp\n",
      "Successfully installed gluonnlp-0.10.0\n"
     ]
    }
   ],
   "source": [
    "!pip install gluonnlp"
   ]
  },
  {
   "cell_type": "code",
   "execution_count": 7,
   "metadata": {
    "colab": {
     "base_uri": "https://localhost:8080/"
    },
    "executionInfo": {
     "elapsed": 26480,
     "status": "ok",
     "timestamp": 1615375162832,
     "user": {
      "displayName": "김기휘",
      "photoUrl": "https://lh3.googleusercontent.com/a-/AOh14GhIQFPUDr44-Q4-Cz9IVQp5qeMiQy2Y_bCaA3W6Mg=s64",
      "userId": "01816834924400046195"
     },
     "user_tz": -540
    },
    "id": "PH-03qugaZOw",
    "outputId": "5dcf975c-2e99-4b7c-8175-cd812f3fdea6"
   },
   "outputs": [
    {
     "name": "stdout",
     "output_type": "stream",
     "text": [
      "Collecting mxnet\n",
      "\u001b[?25l  Downloading https://files.pythonhosted.org/packages/64/20/76af36cad6754a15f39d3bff19e09921dec72b85261e455d4edc50ebffa8/mxnet-1.7.0.post2-py2.py3-none-manylinux2014_x86_64.whl (54.7MB)\n",
      "\u001b[K     |████████████████████████████████| 54.7MB 95kB/s \n",
      "\u001b[?25hRequirement already satisfied: numpy<2.0.0,>1.16.0 in /usr/local/lib/python3.7/dist-packages (from mxnet) (1.19.5)\n",
      "Requirement already satisfied: requests<3,>=2.20.0 in /usr/local/lib/python3.7/dist-packages (from mxnet) (2.23.0)\n",
      "Collecting graphviz<0.9.0,>=0.8.1\n",
      "  Downloading https://files.pythonhosted.org/packages/53/39/4ab213673844e0c004bed8a0781a0721a3f6bb23eb8854ee75c236428892/graphviz-0.8.4-py2.py3-none-any.whl\n",
      "Requirement already satisfied: certifi>=2017.4.17 in /usr/local/lib/python3.7/dist-packages (from requests<3,>=2.20.0->mxnet) (2020.12.5)\n",
      "Requirement already satisfied: idna<3,>=2.5 in /usr/local/lib/python3.7/dist-packages (from requests<3,>=2.20.0->mxnet) (2.10)\n",
      "Requirement already satisfied: urllib3!=1.25.0,!=1.25.1,<1.26,>=1.21.1 in /usr/local/lib/python3.7/dist-packages (from requests<3,>=2.20.0->mxnet) (1.24.3)\n",
      "Requirement already satisfied: chardet<4,>=3.0.2 in /usr/local/lib/python3.7/dist-packages (from requests<3,>=2.20.0->mxnet) (3.0.4)\n",
      "Installing collected packages: graphviz, mxnet\n",
      "  Found existing installation: graphviz 0.10.1\n",
      "    Uninstalling graphviz-0.10.1:\n",
      "      Successfully uninstalled graphviz-0.10.1\n",
      "Successfully installed graphviz-0.8.4 mxnet-1.7.0.post2\n"
     ]
    }
   ],
   "source": [
    "!pip install mxnet"
   ]
  },
  {
   "cell_type": "code",
   "execution_count": 8,
   "metadata": {
    "colab": {
     "base_uri": "https://localhost:8080/"
    },
    "executionInfo": {
     "elapsed": 28679,
     "status": "ok",
     "timestamp": 1615375165491,
     "user": {
      "displayName": "김기휘",
      "photoUrl": "https://lh3.googleusercontent.com/a-/AOh14GhIQFPUDr44-Q4-Cz9IVQp5qeMiQy2Y_bCaA3W6Mg=s64",
      "userId": "01816834924400046195"
     },
     "user_tz": -540
    },
    "id": "DIB86nyVcBnq",
    "outputId": "651218d2-9337-4806-e1e5-681527195b8d"
   },
   "outputs": [
    {
     "name": "stdout",
     "output_type": "stream",
     "text": [
      "Requirement already satisfied: sentencepiece in /usr/local/lib/python3.7/dist-packages (0.1.95)\n"
     ]
    }
   ],
   "source": [
    "!pip install sentencepiece"
   ]
  },
  {
   "cell_type": "markdown",
   "metadata": {
    "id": "9mCQT64HS30g"
   },
   "source": [
    "# Library Import"
   ]
  },
  {
   "cell_type": "code",
   "execution_count": 6,
   "metadata": {
    "executionInfo": {
     "elapsed": 677,
     "status": "ok",
     "timestamp": 1615379572357,
     "user": {
      "displayName": "김기휘",
      "photoUrl": "https://lh3.googleusercontent.com/a-/AOh14GhIQFPUDr44-Q4-Cz9IVQp5qeMiQy2Y_bCaA3W6Mg=s64",
      "userId": "01816834924400046195"
     },
     "user_tz": -540
    },
    "id": "GTNZr9kdS2o4"
   },
   "outputs": [],
   "source": [
    "import torch\n",
    "from torch import nn\n",
    "from torch.utils.data import Dataset"
   ]
  },
  {
   "cell_type": "code",
   "execution_count": 7,
   "metadata": {
    "executionInfo": {
     "elapsed": 2325,
     "status": "ok",
     "timestamp": 1615379574154,
     "user": {
      "displayName": "김기휘",
      "photoUrl": "https://lh3.googleusercontent.com/a-/AOh14GhIQFPUDr44-Q4-Cz9IVQp5qeMiQy2Y_bCaA3W6Mg=s64",
      "userId": "01816834924400046195"
     },
     "user_tz": -540
    },
    "id": "ymY4iAtMS1W6"
   },
   "outputs": [],
   "source": [
    "from KoBERT.kobert.utils import get_tokenizer\n",
    "from KoBERT.kobert.pytorch_kobert import get_pytorch_kobert_model"
   ]
  },
  {
   "cell_type": "code",
   "execution_count": 5,
   "metadata": {
    "executionInfo": {
     "elapsed": 3134,
     "status": "ok",
     "timestamp": 1615379570583,
     "user": {
      "displayName": "김기휘",
      "photoUrl": "https://lh3.googleusercontent.com/a-/AOh14GhIQFPUDr44-Q4-Cz9IVQp5qeMiQy2Y_bCaA3W6Mg=s64",
      "userId": "01816834924400046195"
     },
     "user_tz": -540
    },
    "id": "EhDHyeX2S1c4"
   },
   "outputs": [],
   "source": [
    "from transformers import AdamW\n",
    "from transformers import get_linear_schedule_with_warmup"
   ]
  },
  {
   "cell_type": "code",
   "execution_count": 8,
   "metadata": {
    "executionInfo": {
     "elapsed": 848,
     "status": "ok",
     "timestamp": 1615379574155,
     "user": {
      "displayName": "김기휘",
      "photoUrl": "https://lh3.googleusercontent.com/a-/AOh14GhIQFPUDr44-Q4-Cz9IVQp5qeMiQy2Y_bCaA3W6Mg=s64",
      "userId": "01816834924400046195"
     },
     "user_tz": -540
    },
    "id": "eFEL5RRxYca3"
   },
   "outputs": [],
   "source": [
    "import gluonnlp as nlp"
   ]
  },
  {
   "cell_type": "code",
   "execution_count": 9,
   "metadata": {
    "executionInfo": {
     "elapsed": 710,
     "status": "ok",
     "timestamp": 1615379574156,
     "user": {
      "displayName": "김기휘",
      "photoUrl": "https://lh3.googleusercontent.com/a-/AOh14GhIQFPUDr44-Q4-Cz9IVQp5qeMiQy2Y_bCaA3W6Mg=s64",
      "userId": "01816834924400046195"
     },
     "user_tz": -540
    },
    "id": "OlE94H8-S1fD"
   },
   "outputs": [],
   "source": [
    "from sklearn.model_selection import train_test_split"
   ]
  },
  {
   "cell_type": "code",
   "execution_count": 10,
   "metadata": {
    "executionInfo": {
     "elapsed": 568,
     "status": "ok",
     "timestamp": 1615379574158,
     "user": {
      "displayName": "김기휘",
      "photoUrl": "https://lh3.googleusercontent.com/a-/AOh14GhIQFPUDr44-Q4-Cz9IVQp5qeMiQy2Y_bCaA3W6Mg=s64",
      "userId": "01816834924400046195"
     },
     "user_tz": -540
    },
    "id": "1fBQrbOTYeFZ"
   },
   "outputs": [],
   "source": [
    "import numpy as np\n",
    "import pandas as pd\n",
    "import matplotlib.pyplot as plt\n",
    "import matplotlib.font_manager as fm\n",
    "\n",
    "from tqdm import tqdm, tqdm_notebook\n",
    "import sys"
   ]
  },
  {
   "cell_type": "markdown",
   "metadata": {
    "id": "QqIcXBimauG7"
   },
   "source": [
    "# Main"
   ]
  },
  {
   "cell_type": "code",
   "execution_count": 11,
   "metadata": {
    "executionInfo": {
     "elapsed": 661,
     "status": "ok",
     "timestamp": 1615379574522,
     "user": {
      "displayName": "김기휘",
      "photoUrl": "https://lh3.googleusercontent.com/a-/AOh14GhIQFPUDr44-Q4-Cz9IVQp5qeMiQy2Y_bCaA3W6Mg=s64",
      "userId": "01816834924400046195"
     },
     "user_tz": -540
    },
    "id": "Gt1kkZj0qMBx"
   },
   "outputs": [],
   "source": [
    "%matplotlib inline"
   ]
  },
  {
   "cell_type": "code",
   "execution_count": 12,
   "metadata": {
    "executionInfo": {
     "elapsed": 560,
     "status": "ok",
     "timestamp": 1615379574523,
     "user": {
      "displayName": "김기휘",
      "photoUrl": "https://lh3.googleusercontent.com/a-/AOh14GhIQFPUDr44-Q4-Cz9IVQp5qeMiQy2Y_bCaA3W6Mg=s64",
      "userId": "01816834924400046195"
     },
     "user_tz": -540
    },
    "id": "8Rnp6efcoBsP"
   },
   "outputs": [],
   "source": [
    "plt.style.use('seaborn')\n",
    "fm.get_fontconfig_fonts()\n",
    "font_location = '/content/drive/MyDrive/Colab Notebooks/BERT_BMC/font/NanumGothic.ttf'\n",
    "fprop = fm.FontProperties(fname=font_location)"
   ]
  },
  {
   "cell_type": "code",
   "execution_count": 306,
   "metadata": {
    "executionInfo": {
     "elapsed": 669,
     "status": "ok",
     "timestamp": 1615390540439,
     "user": {
      "displayName": "김기휘",
      "photoUrl": "https://lh3.googleusercontent.com/a-/AOh14GhIQFPUDr44-Q4-Cz9IVQp5qeMiQy2Y_bCaA3W6Mg=s64",
      "userId": "01816834924400046195"
     },
     "user_tz": -540
    },
    "id": "YWaZk0Q2tUqC"
   },
   "outputs": [],
   "source": [
    "import random\n",
    "random.seed(1004)"
   ]
  },
  {
   "cell_type": "code",
   "execution_count": 307,
   "metadata": {
    "executionInfo": {
     "elapsed": 539,
     "status": "ok",
     "timestamp": 1615390540668,
     "user": {
      "displayName": "김기휘",
      "photoUrl": "https://lh3.googleusercontent.com/a-/AOh14GhIQFPUDr44-Q4-Cz9IVQp5qeMiQy2Y_bCaA3W6Mg=s64",
      "userId": "01816834924400046195"
     },
     "user_tz": -540
    },
    "id": "PHdCvN8ddYgb"
   },
   "outputs": [],
   "source": [
    "num_class = 5"
   ]
  },
  {
   "cell_type": "code",
   "execution_count": 308,
   "metadata": {
    "executionInfo": {
     "elapsed": 472,
     "status": "ok",
     "timestamp": 1615390541180,
     "user": {
      "displayName": "김기휘",
      "photoUrl": "https://lh3.googleusercontent.com/a-/AOh14GhIQFPUDr44-Q4-Cz9IVQp5qeMiQy2Y_bCaA3W6Mg=s64",
      "userId": "01816834924400046195"
     },
     "user_tz": -540
    },
    "id": "1j5i2S2DawNE"
   },
   "outputs": [],
   "source": [
    "device = torch.device(\"cuda:0\")\n",
    "\n",
    "# import torch_xla\n",
    "# import torch_xla.core.xla_model as xm\n",
    "\n",
    "# net = torchvision.models.alexnet(num_classes=num_class)\n",
    "\n",
    "# # Acquires the default Cloud TPU core and moves the model to it\n",
    "# device = xm.xla_device()\n",
    "# net = net.to(device)"
   ]
  },
  {
   "cell_type": "code",
   "execution_count": 309,
   "metadata": {
    "colab": {
     "base_uri": "https://localhost:8080/"
    },
    "executionInfo": {
     "elapsed": 7478,
     "status": "ok",
     "timestamp": 1615390549097,
     "user": {
      "displayName": "김기휘",
      "photoUrl": "https://lh3.googleusercontent.com/a-/AOh14GhIQFPUDr44-Q4-Cz9IVQp5qeMiQy2Y_bCaA3W6Mg=s64",
      "userId": "01816834924400046195"
     },
     "user_tz": -540
    },
    "id": "oGuv8ULva1N2",
    "outputId": "aadd9ee9-c4f1-4ff7-e3f2-8e3390f964f8"
   },
   "outputs": [
    {
     "name": "stdout",
     "output_type": "stream",
     "text": [
      "using cached model\n",
      "using cached model\n",
      "using cached model\n"
     ]
    }
   ],
   "source": [
    "bertmodel, vocab = get_pytorch_kobert_model()\n",
    "tokenizer = get_tokenizer()\n",
    "tok = nlp.data.BERTSPTokenizer(tokenizer, vocab, lower=False)"
   ]
  },
  {
   "cell_type": "code",
   "execution_count": 310,
   "metadata": {
    "executionInfo": {
     "elapsed": 890,
     "status": "ok",
     "timestamp": 1615390551694,
     "user": {
      "displayName": "김기휘",
      "photoUrl": "https://lh3.googleusercontent.com/a-/AOh14GhIQFPUDr44-Q4-Cz9IVQp5qeMiQy2Y_bCaA3W6Mg=s64",
      "userId": "01816834924400046195"
     },
     "user_tz": -540
    },
    "id": "dFZ-4Y2Ma28T"
   },
   "outputs": [],
   "source": [
    "## Setting parameters\n",
    "batch_size = 16\n",
    "num_epochs = 30\n",
    "learning_rate = 5e-5\n",
    "drop_out_rate = 0.1\n",
    "test_ratio = 0.3\n",
    "max_len = 128"
   ]
  },
  {
   "cell_type": "code",
   "execution_count": 311,
   "metadata": {
    "executionInfo": {
     "elapsed": 896,
     "status": "ok",
     "timestamp": 1615390551920,
     "user": {
      "displayName": "김기휘",
      "photoUrl": "https://lh3.googleusercontent.com/a-/AOh14GhIQFPUDr44-Q4-Cz9IVQp5qeMiQy2Y_bCaA3W6Mg=s64",
      "userId": "01816834924400046195"
     },
     "user_tz": -540
    },
    "id": "QqTaxom5dS7p"
   },
   "outputs": [],
   "source": [
    "filename = '핵심활동'"
   ]
  },
  {
   "cell_type": "code",
   "execution_count": 312,
   "metadata": {
    "executionInfo": {
     "elapsed": 712,
     "status": "ok",
     "timestamp": 1615390551921,
     "user": {
      "displayName": "김기휘",
      "photoUrl": "https://lh3.googleusercontent.com/a-/AOh14GhIQFPUDr44-Q4-Cz9IVQp5qeMiQy2Y_bCaA3W6Mg=s64",
      "userId": "01816834924400046195"
     },
     "user_tz": -540
    },
    "id": "USDFqdSpgbia"
   },
   "outputs": [],
   "source": [
    "class BERTDataset(Dataset):\n",
    "    def __init__(self, dataset, bert_tokenizer, max_len, pad, pair, filename=filename):\n",
    "        transform = nlp.data.BERTSentenceTransform(\n",
    "            bert_tokenizer, max_seq_length=max_len, pad=pad, pair=pair)\n",
    "\n",
    "        sent_data = []\n",
    "        for i in range(len(dataset)):\n",
    "            sent_data.append([str(dataset.iloc[i][filename]), dataset.iloc[i]['label']])\n",
    "\n",
    "        self.sentences = [transform([i[0]]) for i in sent_data]\n",
    "        self.labels = [np.int32(i[1]) for i in sent_data]\n",
    "\n",
    "    def __getitem__(self, i):\n",
    "        return self.sentences[i] + (self.labels[i],)\n",
    "\n",
    "    def __len__(self):\n",
    "        return len(self.labels)\n",
    "\n",
    "\n",
    "class BERTClassifier(nn.Module):\n",
    "    def __init__(self,\n",
    "                 bert,\n",
    "                 hidden_size=768,\n",
    "                 num_classes=num_class,\n",
    "                 dr_rate=None,\n",
    "                 params=None):\n",
    "        super(BERTClassifier, self).__init__()\n",
    "        self.bert = bert\n",
    "        self.dr_rate = dr_rate\n",
    "\n",
    "        self.classifier = nn.Linear(hidden_size, num_classes)\n",
    "        if dr_rate:\n",
    "            self.dropout = nn.Dropout(p=dr_rate)\n",
    "\n",
    "    def gen_attention_mask(self, token_ids, valid_length):\n",
    "        attention_mask = torch.zeros_like(token_ids)\n",
    "        for i, v in enumerate(valid_length):\n",
    "            attention_mask[i][:v] = 1\n",
    "        return attention_mask.float()\n",
    "\n",
    "    def forward(self, token_ids, valid_length, segment_ids):\n",
    "        attention_mask = self.gen_attention_mask(token_ids, valid_length)\n",
    "\n",
    "        _, pooler = self.bert(input_ids=token_ids, token_type_ids=segment_ids.long(),\n",
    "                              attention_mask=attention_mask.float().to(token_ids.device))\n",
    "\n",
    "        if self.dr_rate:\n",
    "            out = self.dropout(pooler)\n",
    "        softmax = nn.Softmax(dim=1)\n",
    "        output = softmax(self.classifier(out))\n",
    "        # output = self.classifier(out)\n",
    "        # return self.classifier(out)\n",
    "        return output"
   ]
  },
  {
   "cell_type": "code",
   "execution_count": 313,
   "metadata": {
    "executionInfo": {
     "elapsed": 556,
     "status": "ok",
     "timestamp": 1615390551921,
     "user": {
      "displayName": "김기휘",
      "photoUrl": "https://lh3.googleusercontent.com/a-/AOh14GhIQFPUDr44-Q4-Cz9IVQp5qeMiQy2Y_bCaA3W6Mg=s64",
      "userId": "01816834924400046195"
     },
     "user_tz": -540
    },
    "id": "2tKaDiwecPLI"
   },
   "outputs": [],
   "source": [
    "def read_data(path='./', filename=filename):\n",
    "    df = pd.read_csv(path + '/' + filename + '.csv', sep=',')\n",
    "    df = df.dropna(axis=0)\n",
    "\n",
    "    if num_class == 5:\n",
    "        df['label'] = df['label'].replace({'A': 0, 'B': 1, 'C': 2, 'D': 3, 'E': 4})\n",
    "        df['label'] = pd.get_dummies(df.label).values[:, ::-1].tolist()  # one hot encoding\n",
    "    elif num_class == 2:\n",
    "        df = df.drop(df[df['label'] == 'C'].index)\n",
    "        df['label'] = df['label'].replace({'A': 1, 'B': 1, 'D': 0, 'E': 0})\n",
    "        df = df.dropna(axis=0)\n",
    "    elif num_class == 3:\n",
    "        df['label'] = df['label'].replace({'A': 0, 'B': 0, 'C': 1, 'D': 2, 'E': 2})\n",
    "        # df['label'] = df['label'].replace({'A': 0, 'B': 1, 'C': 2})\n",
    "        df['label'] = pd.get_dummies(df.label).values[:, ::-1].tolist()  # one hot encoding\n",
    "    else:\n",
    "        print('wrong input\\n')\n",
    "        sys.exit()\n",
    "    return df"
   ]
  },
  {
   "cell_type": "code",
   "execution_count": 314,
   "metadata": {
    "executionInfo": {
     "elapsed": 633,
     "status": "ok",
     "timestamp": 1615390552210,
     "user": {
      "displayName": "김기휘",
      "photoUrl": "https://lh3.googleusercontent.com/a-/AOh14GhIQFPUDr44-Q4-Cz9IVQp5qeMiQy2Y_bCaA3W6Mg=s64",
      "userId": "01816834924400046195"
     },
     "user_tz": -540
    },
    "id": "0c2WWVfhcb9t"
   },
   "outputs": [],
   "source": [
    "def one_hot_ce_loss(outputs, targets):\n",
    "    criterion = nn.CrossEntropyLoss()\n",
    "    _, labels = torch.max(targets, dim=1)\n",
    "    return criterion(outputs, labels)"
   ]
  },
  {
   "cell_type": "code",
   "execution_count": 315,
   "metadata": {
    "executionInfo": {
     "elapsed": 700,
     "status": "ok",
     "timestamp": 1615390552459,
     "user": {
      "displayName": "김기휘",
      "photoUrl": "https://lh3.googleusercontent.com/a-/AOh14GhIQFPUDr44-Q4-Cz9IVQp5qeMiQy2Y_bCaA3W6Mg=s64",
      "userId": "01816834924400046195"
     },
     "user_tz": -540
    },
    "id": "MHOz92sFeOhZ"
   },
   "outputs": [],
   "source": [
    "def model(data=None, num_epochs=10, batch_size=16, test_ratio=0.3, drop_out_rate=0.5,\n",
    "          learning_rate=5e-5, graph=None, savemode=False, filename=filename):\n",
    "    x_train, x_test, y_train, y_test = train_test_split(data[filename],\n",
    "                                                        data['label'],\n",
    "                                                        test_size=test_ratio,\n",
    "                                                        shuffle=True,\n",
    "                                                        stratify=data['label'],\n",
    "                                                        random_state=1)\n",
    "    df_train = pd.DataFrame()\n",
    "    df_train[filename] = x_train\n",
    "    df_train['label'] = y_train\n",
    "    df_test = pd.DataFrame()\n",
    "    df_test[filename] = x_test\n",
    "    df_test['label'] = y_test\n",
    "\n",
    "    model = BERTClassifier(bertmodel, dr_rate=drop_out_rate).to(device)\n",
    "\n",
    "    data_train = BERTDataset(df_train, tok, max_len, True, False)\n",
    "    data_test = BERTDataset(df_test, tok, max_len, True, False)\n",
    "\n",
    "    train_dataloader = torch.utils.data.DataLoader(data_train, batch_size=batch_size, num_workers=4)\n",
    "    test_dataloader = torch.utils.data.DataLoader(data_test, batch_size=batch_size, num_workers=4)\n",
    "\n",
    "    no_decay = ['bias', 'LayerNorm.weight']\n",
    "    optimizer_grouped_parameters = [\n",
    "        {'params': [p for n, p in model.named_parameters() if not any(nd in n for nd in no_decay)],\n",
    "         'weight_decay': 0.01},\n",
    "        {'params': [p for n, p in model.named_parameters() if any(nd in n for nd in no_decay)], 'weight_decay': 0.0}\n",
    "    ]\n",
    "    optimizer = AdamW(optimizer_grouped_parameters, lr=learning_rate)\n",
    "    loss_fn = nn.CrossEntropyLoss()\n",
    "    t_total = len(train_dataloader) * num_epochs\n",
    "    warmup_step = int(t_total * 0.1)\n",
    "    scheduler = get_linear_schedule_with_warmup(optimizer, num_warmup_steps=warmup_step, num_training_steps=t_total)\n",
    "\n",
    "    train_acc_list = []\n",
    "    test_acc_list = []\n",
    "    train_loss_list = []\n",
    "    test_loss_list = []\n",
    "\n",
    "    for e in range(num_epochs):\n",
    "        train_acc = 0.\n",
    "        test_acc = 0.\n",
    "        train_loss = 0.\n",
    "        test_loss = 0.\n",
    "\n",
    "        model.train()\n",
    "        for batch_id, (token_ids, valid_length, segment_ids, label) in enumerate(train_dataloader):\n",
    "            optimizer.zero_grad()\n",
    "            token_ids = token_ids.long().to(device)\n",
    "            segment_ids = segment_ids.long().to(device)\n",
    "            valid_length = valid_length\n",
    "            label = label.long().to(device)\n",
    "            out = model(token_ids, valid_length, segment_ids)\n",
    "            if num_class == 5:\n",
    "                loss = one_hot_ce_loss(out, label)\n",
    "            elif num_class == 2:\n",
    "                loss = loss_fn(out, label)\n",
    "            elif num_class == 3:\n",
    "                loss = one_hot_ce_loss(out, label)\n",
    "            else:\n",
    "                print('wrong loss function\\n')\n",
    "                sys.exit()\n",
    "            train_loss += loss.item()\n",
    "            loss.backward()\n",
    "            torch.nn.utils.clip_grad_norm_(model.parameters(), 1)\n",
    "            optimizer.step()\n",
    "            scheduler.step()  # Update learning rate schedule\n",
    "            # train_acc += calc_accuracy_2(out, label)\n",
    "            if num_class == 5:\n",
    "                train_acc += calc_accuracy_1(out, label)\n",
    "            elif num_class == 2:\n",
    "                train_acc += calc_accuracy(out, label)\n",
    "            elif num_class == 3:\n",
    "                train_acc += calc_accuracy_3(out, label)\n",
    "\n",
    "            else:\n",
    "                print('wrong calc accuracy\\n')\n",
    "                sys.exit()\n",
    "\n",
    "        print(\"epoch {} train acc {}\".format(e + 1, train_acc / (batch_id + 1)))\n",
    "        train_acc_list.append(train_acc / (batch_id + 1))\n",
    "        train_loss_list.append(train_loss / (batch_id + 1))\n",
    "\n",
    "        model.eval()\n",
    "        for batch_id, (token_ids, valid_length, segment_ids, label) in enumerate(test_dataloader):\n",
    "            token_ids = token_ids.long().to(device)\n",
    "            segment_ids = segment_ids.long().to(device)\n",
    "            valid_length = valid_length\n",
    "            label = label.long().to(device)\n",
    "            out = model(token_ids, valid_length, segment_ids)  # softmax output\n",
    "            # for idx in range(len(out)):\n",
    "            #     sum = np.dot(out[idx].tolist(), [1, 2, 3, 4, 5]) * 20.\n",
    "            #     print(sum)\n",
    "\n",
    "            if num_class == 5:\n",
    "                loss = one_hot_ce_loss(out, label)\n",
    "            elif num_class == 2:\n",
    "                loss = loss_fn(out, label)\n",
    "            elif num_class == 3:\n",
    "                loss = one_hot_ce_loss(out, label)\n",
    "            else:\n",
    "                print('wrong loss function\\n')\n",
    "                sys.exit()\n",
    "\n",
    "            test_loss += loss.item()\n",
    "\n",
    "            if num_class == 5:\n",
    "                test_acc += calc_accuracy_1(out, label)\n",
    "            elif num_class == 2:\n",
    "                test_acc += calc_accuracy(out, label)\n",
    "            elif num_class == 3:\n",
    "                test_acc += calc_accuracy_3(out, label)\n",
    "            else:\n",
    "                print('wrong calc accuracy\\n')\n",
    "                sys.exit()\n",
    "\n",
    "        print(\"epoch {} test acc {}\".format(e + 1, test_acc / (batch_id + 1)))\n",
    "        test_acc_list.append(test_acc / (batch_id + 1))\n",
    "        test_loss_list.append(test_loss / (batch_id + 1))\n",
    "\n",
    "    if graph:\n",
    "        train_x_values = range(1, len(train_acc_list) + 1)\n",
    "        train_y_values = train_acc_list\n",
    "        test_x_values = range(1, len(test_acc_list) + 1)\n",
    "        test_y_values = test_acc_list\n",
    "        train_loss_x_values = range(1, len(train_loss_list) + 1)\n",
    "        train_loss_y_values = train_loss_list\n",
    "        test_loss_x_values = range(1, len(test_loss_list) + 1)\n",
    "        test_loss_y_values = test_loss_list\n",
    "\n",
    "        plt.figure(1)\n",
    "        plt.plot(train_x_values, train_y_values, label='train accuracy')\n",
    "        plt.plot(test_x_values, test_y_values, label='test accuracy')\n",
    "        plt.xlabel('epoch', fontproperties=fprop, fontsize=15)\n",
    "        plt.ylabel('accuracy', fontproperties=fprop, fontsize=15)\n",
    "        plt.ylim(0.0, 1.1)\n",
    "        plt.title(filename + ' accuracy', fontproperties=fprop, fontsize=20)\n",
    "        # plt.title(file, fontsize=20)\n",
    "        plt.legend()\n",
    "        plt.savefig('./result/' + filename + '_accuracy.png')\n",
    "\n",
    "        plt.figure(2)\n",
    "        plt.plot(train_loss_x_values, train_loss_y_values, label='train loss')\n",
    "        plt.plot(test_loss_x_values, test_loss_y_values, label='test loss')\n",
    "        plt.xlabel('epoch', fontproperties=fprop, fontsize=15)\n",
    "        plt.ylabel('loss', fontproperties=fprop, fontsize=15)\n",
    "        plt.title(filename + ' loss', fontproperties=fprop, fontsize=20)\n",
    "        # plt.title(file, fontsize=20)\n",
    "        plt.legend()\n",
    "        plt.savefig('./result/' + filename + '_loss.png')\n",
    "\n",
    "    if savemode:\n",
    "        torch.save(model.state_dict(), './' + filename)"
   ]
  },
  {
   "cell_type": "code",
   "execution_count": 316,
   "metadata": {
    "executionInfo": {
     "elapsed": 702,
     "status": "ok",
     "timestamp": 1615390552694,
     "user": {
      "displayName": "김기휘",
      "photoUrl": "https://lh3.googleusercontent.com/a-/AOh14GhIQFPUDr44-Q4-Cz9IVQp5qeMiQy2Y_bCaA3W6Mg=s64",
      "userId": "01816834924400046195"
     },
     "user_tz": -540
    },
    "id": "g3aA1D2ZgK0M"
   },
   "outputs": [],
   "source": [
    "# 5 class accuracy\n",
    "def calc_accuracy_1(X, Y):\n",
    "    max_vals, max_indices = torch.max(X, 1)\n",
    "    # print('X=', X)\n",
    "    # print('max_vals=', max_vals)\n",
    "    # print('max_indices = ', max_indices)\n",
    "    encoding = []\n",
    "    # for i in range(len(Y)):\n",
    "    #     if int(max_indices[i]) == 0:\n",
    "    #         encoding.append([0, 0, 0, 0, 1])\n",
    "    #     elif int(max_indices[i]) == 1:\n",
    "    #         encoding.append([0, 0, 0, 1, 0])\n",
    "    #     elif int(max_indices[i]) == 2:\n",
    "    #         encoding.append([0, 0, 1, 0, 0])\n",
    "    #     elif int(max_indices[i]) == 3:\n",
    "    #         encoding.append([0, 1, 0, 0, 0])\n",
    "    #     elif int(max_indices[i]) == 4:\n",
    "    #         encoding.append([1, 0, 0, 0, 0])\n",
    "\n",
    "    for i in range(len(Y)):\n",
    "        if int(max_indices[i]) == 0:\n",
    "            encoding.append([1, 0, 0, 0, 0])\n",
    "        elif int(max_indices[i]) == 1:\n",
    "            encoding.append([0, 1, 0, 0, 0])\n",
    "        elif int(max_indices[i]) == 2:\n",
    "            encoding.append([0, 0, 1, 0, 0])\n",
    "        elif int(max_indices[i]) == 3:\n",
    "            encoding.append([0, 0, 0, 1, 0])\n",
    "        elif int(max_indices[i]) == 4:\n",
    "            encoding.append([0, 0, 0, 0, 1])\n",
    "\n",
    "    encoding = torch.tensor(encoding).to(device)\n",
    "\n",
    "    cor_matrix = (encoding == Y).tolist()\n",
    "    correct = 0.\n",
    "\n",
    "    for j in range(len(Y)):\n",
    "        if all(cor_matrix[j]):\n",
    "            correct += 1.\n",
    "\n",
    "    #     train_acc = (encoding == Y).sum().data.cpu().numpy()/len(encoding)\n",
    "    train_acc = correct / len(Y)\n",
    "    #     train_acc = (encoding == Y).sum().float()/Y.size(0)\n",
    "    return train_acc"
   ]
  },
  {
   "cell_type": "code",
   "execution_count": 317,
   "metadata": {
    "executionInfo": {
     "elapsed": 719,
     "status": "ok",
     "timestamp": 1615390553334,
     "user": {
      "displayName": "김기휘",
      "photoUrl": "https://lh3.googleusercontent.com/a-/AOh14GhIQFPUDr44-Q4-Cz9IVQp5qeMiQy2Y_bCaA3W6Mg=s64",
      "userId": "01816834924400046195"
     },
     "user_tz": -540
    },
    "id": "IN7UeTI1gXPY"
   },
   "outputs": [],
   "source": [
    "# 3 class accuracy\n",
    "def calc_accuracy_3(X, Y):\n",
    "    max_vals, max_indices = torch.max(X, 1)\n",
    "    encoding = []\n",
    "    # for i in range(len(Y)):\n",
    "    #     if int(max_indices[i]) == 0:\n",
    "    #         encoding.append([0, 0, 1])\n",
    "    #     elif int(max_indices[i]) == 1:\n",
    "    #         encoding.append([0, 1, 0])\n",
    "    #     elif int(max_indices[i]) == 2:\n",
    "    #         encoding.append([1, 0, 0])\n",
    "    for i in range(len(Y)):\n",
    "        if int(max_indices[i]) == 0:\n",
    "            encoding.append([1, 0, 0])\n",
    "        elif int(max_indices[i]) == 1:\n",
    "            encoding.append([0, 1, 0])\n",
    "        elif int(max_indices[i]) == 2:\n",
    "            encoding.append([0, 0, 1])\n",
    "    encoding = torch.tensor(encoding).to(device)\n",
    "\n",
    "    cor_matrix = (encoding == Y).tolist()\n",
    "    correct = 0.\n",
    "\n",
    "    for j in range(len(Y)):\n",
    "        if all(cor_matrix[j]):\n",
    "            correct += 1.\n",
    "\n",
    "    #     train_acc = (encoding == Y).sum().data.cpu().numpy()/len(encoding)\n",
    "    train_acc = correct / len(Y)\n",
    "    #     train_acc = (encoding == Y).sum().float()/Y.size(0)\n",
    "    return train_acc"
   ]
  },
  {
   "cell_type": "code",
   "execution_count": 318,
   "metadata": {
    "executionInfo": {
     "elapsed": 767,
     "status": "ok",
     "timestamp": 1615390553780,
     "user": {
      "displayName": "김기휘",
      "photoUrl": "https://lh3.googleusercontent.com/a-/AOh14GhIQFPUDr44-Q4-Cz9IVQp5qeMiQy2Y_bCaA3W6Mg=s64",
      "userId": "01816834924400046195"
     },
     "user_tz": -540
    },
    "id": "vJXYOwP8gZOG"
   },
   "outputs": [],
   "source": [
    "# 2 class accuracy\n",
    "def calc_accuracy(X, Y):\n",
    "    max_vals, max_indices = torch.max(X, 1)\n",
    "    train_acc = (max_indices == Y).sum().data.cpu().numpy()/max_indices.size()[0]\n",
    "    return train_acc"
   ]
  },
  {
   "cell_type": "code",
   "execution_count": 319,
   "metadata": {
    "colab": {
     "base_uri": "https://localhost:8080/",
     "height": 1000
    },
    "executionInfo": {
     "elapsed": 182876,
     "status": "ok",
     "timestamp": 1615390736322,
     "user": {
      "displayName": "김기휘",
      "photoUrl": "https://lh3.googleusercontent.com/a-/AOh14GhIQFPUDr44-Q4-Cz9IVQp5qeMiQy2Y_bCaA3W6Mg=s64",
      "userId": "01816834924400046195"
     },
     "user_tz": -540
    },
    "id": "q2F4OAxzgrlW",
    "outputId": "13e368b8-8a0e-485b-cf33-755a84fe24c9"
   },
   "outputs": [
    {
     "name": "stdout",
     "output_type": "stream",
     "text": [
      "epoch 1 train acc 0.33049242424242425\n",
      "epoch 1 test acc 0.37857142857142856\n",
      "epoch 2 train acc 0.3816287878787879\n",
      "epoch 2 test acc 0.37857142857142856\n",
      "epoch 3 train acc 0.39583333333333337\n",
      "epoch 3 test acc 0.4303571428571429\n",
      "epoch 4 train acc 0.5181818181818182\n",
      "epoch 4 test acc 0.45714285714285713\n",
      "epoch 5 train acc 0.5668560606060606\n",
      "epoch 5 test acc 0.5133928571428571\n",
      "epoch 6 train acc 0.6352272727272728\n",
      "epoch 6 test acc 0.46964285714285714\n",
      "epoch 7 train acc 0.6922348484848485\n",
      "epoch 7 test acc 0.45714285714285713\n",
      "epoch 8 train acc 0.7234848484848485\n",
      "epoch 8 test acc 0.5008928571428571\n",
      "epoch 9 train acc 0.6890151515151515\n",
      "epoch 9 test acc 0.4946428571428571\n",
      "epoch 10 train acc 0.6206439393939394\n",
      "epoch 10 test acc 0.5116071428571429\n",
      "epoch 11 train acc 0.6893939393939393\n",
      "epoch 11 test acc 0.5651785714285714\n",
      "epoch 12 train acc 0.8026515151515152\n",
      "epoch 12 test acc 0.5071428571428571\n",
      "epoch 13 train acc 0.7831439393939394\n",
      "epoch 13 test acc 0.5196428571428571\n",
      "epoch 14 train acc 0.834469696969697\n",
      "epoch 14 test acc 0.5366071428571428\n",
      "epoch 15 train acc 0.8399621212121212\n",
      "epoch 15 test acc 0.5508928571428571\n",
      "epoch 16 train acc 0.8859848484848485\n",
      "epoch 16 test acc 0.5276785714285714\n",
      "epoch 17 train acc 0.9030303030303031\n",
      "epoch 17 test acc 0.5714285714285714\n",
      "epoch 18 train acc 0.9087121212121212\n",
      "epoch 18 test acc 0.5241071428571429\n",
      "epoch 19 train acc 0.9058712121212121\n",
      "epoch 19 test acc 0.5241071428571429\n",
      "epoch 20 train acc 0.9030303030303031\n",
      "epoch 20 test acc 0.5258928571428572\n",
      "epoch 21 train acc 0.9170454545454546\n",
      "epoch 21 test acc 0.4946428571428571\n",
      "epoch 22 train acc 0.9229166666666667\n",
      "epoch 22 test acc 0.5321428571428571\n",
      "epoch 23 train acc 0.9285984848484848\n",
      "epoch 23 test acc 0.5571428571428572\n",
      "epoch 24 train acc 0.9342803030303031\n",
      "epoch 24 test acc 0.5196428571428571\n",
      "epoch 25 train acc 0.9342803030303031\n",
      "epoch 25 test acc 0.5383928571428571\n",
      "epoch 26 train acc 0.931439393939394\n",
      "epoch 26 test acc 0.5696428571428571\n",
      "epoch 27 train acc 0.9342803030303031\n",
      "epoch 27 test acc 0.5383928571428571\n",
      "epoch 28 train acc 0.9342803030303031\n",
      "epoch 28 test acc 0.5258928571428572\n",
      "epoch 29 train acc 0.9342803030303031\n",
      "epoch 29 test acc 0.5258928571428572\n",
      "epoch 30 train acc 0.9342803030303031\n",
      "epoch 30 test acc 0.5258928571428572\n"
     ]
    },
    {
     "data": {
      "image/png": "[encoded data removed]",
      "text/plain": [
       "<Figure size 576x396 with 1 Axes>"
      ]
     },
     "metadata": {
      "tags": []
     },
     "output_type": "display_data"
    },
    {
     "data": {
      "image/png": "[encoded data removed]",
      "text/plain": [
       "<Figure size 576x396 with 1 Axes>"
      ]
     },
     "metadata": {
      "tags": []
     },
     "output_type": "display_data"
    }
   ],
   "source": [
    "if __name__ == '__main__':\n",
    "\n",
    "    data = read_data(path='./data/')\n",
    "\n",
    "    ## exectue model\n",
    "    model(data=data, batch_size=batch_size, num_epochs=num_epochs, learning_rate=learning_rate, drop_out_rate=drop_out_rate, test_ratio=test_ratio, graph=True, savemode=False)"
   ]
  },
  {
   "cell_type": "code",
   "execution_count": 125,
   "metadata": {
    "executionInfo": {
     "elapsed": 182109,
     "status": "ok",
     "timestamp": 1615382435291,
     "user": {
      "displayName": "김기휘",
      "photoUrl": "https://lh3.googleusercontent.com/a-/AOh14GhIQFPUDr44-Q4-Cz9IVQp5qeMiQy2Y_bCaA3W6Mg=s64",
      "userId": "01816834924400046195"
     },
     "user_tz": -540
    },
    "id": "-dB3AlBpHuMQ"
   },
   "outputs": [],
   "source": []
  }
 ],
 "metadata": {
  "accelerator": "GPU",
  "colab": {
   "authorship_tag": "ABX9TyNNCrQJQHtXQ59+mchMin4G",
   "collapsed_sections": [],
   "machine_shape": "hm",
   "name": "BMC_analysis.ipynb",
   "provenance": []
  },
  "kernelspec": {
   "display_name": "Python 3 (ipykernel)",
   "language": "python",
   "name": "python3"
  },
  "language_info": {
   "codemirror_mode": {
    "name": "ipython",
    "version": 3
   },
   "file_extension": ".py",
   "mimetype": "text/x-python",
   "name": "python",
   "nbconvert_exporter": "python",
   "pygments_lexer": "ipython3",
   "version": "3.8.10"
  }
 },
 "nbformat": 4,
 "nbformat_minor": 1
}
